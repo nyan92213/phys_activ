{
 "cells": [
  {
   "cell_type": "code",
   "execution_count": 1,
   "metadata": {
    "id": "BDkioiQG39MA"
   },
   "outputs": [],
   "source": [
    "import pandas as pd\n",
    "import seaborn as sns\n",
    "import matplotlib.pyplot as plt"
   ]
  },
  {
   "cell_type": "code",
   "execution_count": 2,
   "metadata": {
    "colab": {
     "base_uri": "https://localhost:8080/",
     "height": 299
    },
    "id": "eveGACwA3-pC",
    "outputId": "2c6c58fe-6e98-4491-e498-89bd4dc013c8"
   },
   "outputs": [
    {
     "data": {
      "text/html": [
       "<div>\n",
       "<style scoped>\n",
       "    .dataframe tbody tr th:only-of-type {\n",
       "        vertical-align: middle;\n",
       "    }\n",
       "\n",
       "    .dataframe tbody tr th {\n",
       "        vertical-align: top;\n",
       "    }\n",
       "\n",
       "    .dataframe thead th {\n",
       "        text-align: right;\n",
       "    }\n",
       "</style>\n",
       "<table border=\"1\" class=\"dataframe\">\n",
       "  <thead>\n",
       "    <tr style=\"text-align: right;\">\n",
       "      <th></th>\n",
       "      <th>timestamp</th>\n",
       "      <th>handTemperature</th>\n",
       "      <th>handAcc16_1</th>\n",
       "      <th>handAcc16_2</th>\n",
       "      <th>handAcc16_3</th>\n",
       "      <th>handAcc6_1</th>\n",
       "      <th>handAcc6_2</th>\n",
       "      <th>handAcc6_3</th>\n",
       "      <th>handGyro1</th>\n",
       "      <th>handGyro2</th>\n",
       "      <th>...</th>\n",
       "      <th>ankleGyro2</th>\n",
       "      <th>ankleGyro3</th>\n",
       "      <th>ankleMagne1</th>\n",
       "      <th>ankleMagne2</th>\n",
       "      <th>ankleMagne3</th>\n",
       "      <th>ankleOrientation1</th>\n",
       "      <th>ankleOrientation2</th>\n",
       "      <th>ankleOrientation3</th>\n",
       "      <th>ankleOrientation4</th>\n",
       "      <th>subject_id</th>\n",
       "    </tr>\n",
       "  </thead>\n",
       "  <tbody>\n",
       "    <tr>\n",
       "      <th>0</th>\n",
       "      <td>252.75</td>\n",
       "      <td>34.8750</td>\n",
       "      <td>0.902847</td>\n",
       "      <td>7.45872</td>\n",
       "      <td>6.032490</td>\n",
       "      <td>1.006100</td>\n",
       "      <td>7.44575</td>\n",
       "      <td>6.303650</td>\n",
       "      <td>-0.021952</td>\n",
       "      <td>0.004114</td>\n",
       "      <td>...</td>\n",
       "      <td>-0.025606</td>\n",
       "      <td>0.030239</td>\n",
       "      <td>-14.5447</td>\n",
       "      <td>27.3336</td>\n",
       "      <td>-5.76620</td>\n",
       "      <td>0.206416</td>\n",
       "      <td>0.348212</td>\n",
       "      <td>0.763201</td>\n",
       "      <td>-0.503652</td>\n",
       "      <td>5</td>\n",
       "    </tr>\n",
       "    <tr>\n",
       "      <th>1</th>\n",
       "      <td>3652.45</td>\n",
       "      <td>29.7500</td>\n",
       "      <td>-4.069330</td>\n",
       "      <td>3.76168</td>\n",
       "      <td>8.279720</td>\n",
       "      <td>-5.972500</td>\n",
       "      <td>3.22273</td>\n",
       "      <td>6.908970</td>\n",
       "      <td>0.116054</td>\n",
       "      <td>-0.375968</td>\n",
       "      <td>...</td>\n",
       "      <td>-0.670163</td>\n",
       "      <td>1.786200</td>\n",
       "      <td>-32.8257</td>\n",
       "      <td>-15.7719</td>\n",
       "      <td>-1.31395</td>\n",
       "      <td>0.578332</td>\n",
       "      <td>-0.566734</td>\n",
       "      <td>0.405888</td>\n",
       "      <td>-0.423791</td>\n",
       "      <td>2</td>\n",
       "    </tr>\n",
       "    <tr>\n",
       "      <th>2</th>\n",
       "      <td>504.76</td>\n",
       "      <td>34.3750</td>\n",
       "      <td>-2.007540</td>\n",
       "      <td>-9.60180</td>\n",
       "      <td>0.773674</td>\n",
       "      <td>-1.803500</td>\n",
       "      <td>-9.58937</td>\n",
       "      <td>1.073680</td>\n",
       "      <td>0.020131</td>\n",
       "      <td>0.042189</td>\n",
       "      <td>...</td>\n",
       "      <td>-0.009741</td>\n",
       "      <td>-0.006579</td>\n",
       "      <td>-18.8171</td>\n",
       "      <td>16.3089</td>\n",
       "      <td>25.29280</td>\n",
       "      <td>0.139776</td>\n",
       "      <td>0.676586</td>\n",
       "      <td>0.393796</td>\n",
       "      <td>0.606316</td>\n",
       "      <td>8</td>\n",
       "    </tr>\n",
       "    <tr>\n",
       "      <th>3</th>\n",
       "      <td>2801.61</td>\n",
       "      <td>31.9375</td>\n",
       "      <td>-13.262200</td>\n",
       "      <td>5.85443</td>\n",
       "      <td>0.899334</td>\n",
       "      <td>-13.611500</td>\n",
       "      <td>5.91511</td>\n",
       "      <td>0.840377</td>\n",
       "      <td>1.715630</td>\n",
       "      <td>-0.050492</td>\n",
       "      <td>...</td>\n",
       "      <td>-0.163470</td>\n",
       "      <td>-3.495570</td>\n",
       "      <td>-26.7418</td>\n",
       "      <td>34.3566</td>\n",
       "      <td>21.32740</td>\n",
       "      <td>0.416303</td>\n",
       "      <td>0.783387</td>\n",
       "      <td>0.306464</td>\n",
       "      <td>0.345075</td>\n",
       "      <td>2</td>\n",
       "    </tr>\n",
       "    <tr>\n",
       "      <th>4</th>\n",
       "      <td>441.01</td>\n",
       "      <td>33.5000</td>\n",
       "      <td>-0.013940</td>\n",
       "      <td>8.66540</td>\n",
       "      <td>4.398210</td>\n",
       "      <td>0.144153</td>\n",
       "      <td>8.56816</td>\n",
       "      <td>4.822200</td>\n",
       "      <td>-0.006938</td>\n",
       "      <td>-0.007383</td>\n",
       "      <td>...</td>\n",
       "      <td>-0.028172</td>\n",
       "      <td>-0.003737</td>\n",
       "      <td>-17.7798</td>\n",
       "      <td>-3.9981</td>\n",
       "      <td>10.99500</td>\n",
       "      <td>0.171133</td>\n",
       "      <td>-0.748343</td>\n",
       "      <td>0.252988</td>\n",
       "      <td>-0.588807</td>\n",
       "      <td>6</td>\n",
       "    </tr>\n",
       "  </tbody>\n",
       "</table>\n",
       "<p>5 rows × 53 columns</p>\n",
       "</div>"
      ],
      "text/plain": [
       "   timestamp  handTemperature  handAcc16_1  handAcc16_2  handAcc16_3  \\\n",
       "0     252.75          34.8750     0.902847      7.45872     6.032490   \n",
       "1    3652.45          29.7500    -4.069330      3.76168     8.279720   \n",
       "2     504.76          34.3750    -2.007540     -9.60180     0.773674   \n",
       "3    2801.61          31.9375   -13.262200      5.85443     0.899334   \n",
       "4     441.01          33.5000    -0.013940      8.66540     4.398210   \n",
       "\n",
       "   handAcc6_1  handAcc6_2  handAcc6_3  handGyro1  handGyro2  ...  ankleGyro2  \\\n",
       "0    1.006100     7.44575    6.303650  -0.021952   0.004114  ...   -0.025606   \n",
       "1   -5.972500     3.22273    6.908970   0.116054  -0.375968  ...   -0.670163   \n",
       "2   -1.803500    -9.58937    1.073680   0.020131   0.042189  ...   -0.009741   \n",
       "3  -13.611500     5.91511    0.840377   1.715630  -0.050492  ...   -0.163470   \n",
       "4    0.144153     8.56816    4.822200  -0.006938  -0.007383  ...   -0.028172   \n",
       "\n",
       "   ankleGyro3  ankleMagne1  ankleMagne2  ankleMagne3  ankleOrientation1  \\\n",
       "0    0.030239     -14.5447      27.3336     -5.76620           0.206416   \n",
       "1    1.786200     -32.8257     -15.7719     -1.31395           0.578332   \n",
       "2   -0.006579     -18.8171      16.3089     25.29280           0.139776   \n",
       "3   -3.495570     -26.7418      34.3566     21.32740           0.416303   \n",
       "4   -0.003737     -17.7798      -3.9981     10.99500           0.171133   \n",
       "\n",
       "   ankleOrientation2  ankleOrientation3  ankleOrientation4  subject_id  \n",
       "0           0.348212           0.763201          -0.503652           5  \n",
       "1          -0.566734           0.405888          -0.423791           2  \n",
       "2           0.676586           0.393796           0.606316           8  \n",
       "3           0.783387           0.306464           0.345075           2  \n",
       "4          -0.748343           0.252988          -0.588807           6  \n",
       "\n",
       "[5 rows x 53 columns]"
      ]
     },
     "execution_count": 2,
     "metadata": {},
     "output_type": "execute_result"
    }
   ],
   "source": [
    "df = pd.read_csv(\"Physical_Activity_Monitoring_unlabeled.csv\")\n",
    "\n",
    "df.head()"
   ]
  },
  {
   "cell_type": "code",
   "execution_count": 3,
   "metadata": {
    "colab": {
     "base_uri": "https://localhost:8080/"
    },
    "id": "uGJULCfUirDm",
    "outputId": "f0009c76-37ce-429c-da31-61656c1bb988"
   },
   "outputs": [
    {
     "data": {
      "text/plain": [
       "Index(['timestamp', 'handTemperature', 'handAcc16_1', 'handAcc16_2',\n",
       "       'handAcc16_3', 'handAcc6_1', 'handAcc6_2', 'handAcc6_3', 'handGyro1',\n",
       "       'handGyro2', 'handGyro3', 'handMagne1', 'handMagne2', 'handMagne3',\n",
       "       'handOrientation1', 'handOrientation2', 'handOrientation3',\n",
       "       'handOrientation4', 'chestTemperature', 'chestAcc16_1', 'chestAcc16_2',\n",
       "       'chestAcc16_3', 'chestAcc6_1', 'chestAcc6_2', 'chestAcc6_3',\n",
       "       'chestGyro1', 'chestGyro2', 'chestGyro3', 'chestMagne1', 'chestMagne2',\n",
       "       'chestMagne3', 'chestOrientation1', 'chestOrientation2',\n",
       "       'chestOrientation3', 'chestOrientation4', 'ankleTemperature',\n",
       "       'ankleAcc16_1', 'ankleAcc16_2', 'ankleAcc16_3', 'ankleAcc6_1',\n",
       "       'ankleAcc6_2', 'ankleAcc6_3', 'ankleGyro1', 'ankleGyro2', 'ankleGyro3',\n",
       "       'ankleMagne1', 'ankleMagne2', 'ankleMagne3', 'ankleOrientation1',\n",
       "       'ankleOrientation2', 'ankleOrientation3', 'ankleOrientation4',\n",
       "       'subject_id'],\n",
       "      dtype='object')"
      ]
     },
     "execution_count": 3,
     "metadata": {},
     "output_type": "execute_result"
    }
   ],
   "source": [
    "df.columns"
   ]
  },
  {
   "cell_type": "code",
   "execution_count": 4,
   "metadata": {
    "colab": {
     "base_uri": "https://localhost:8080/"
    },
    "id": "3wrEXXL74F80",
    "outputId": "8d706348-dba9-4080-ba6d-557c9942f837"
   },
   "outputs": [
    {
     "data": {
      "text/plain": [
       "(534601, 53)"
      ]
     },
     "execution_count": 4,
     "metadata": {},
     "output_type": "execute_result"
    }
   ],
   "source": [
    "df.shape"
   ]
  },
  {
   "cell_type": "code",
   "execution_count": 5,
   "metadata": {
    "colab": {
     "base_uri": "https://localhost:8080/"
    },
    "id": "o0IRZ1aV4GSG",
    "outputId": "39db1ac0-e8f8-4360-a811-dbb4b60e9289"
   },
   "outputs": [
    {
     "data": {
      "text/plain": [
       "timestamp            float64\n",
       "handTemperature      float64\n",
       "handAcc16_1          float64\n",
       "handAcc16_2          float64\n",
       "handAcc16_3          float64\n",
       "handAcc6_1           float64\n",
       "handAcc6_2           float64\n",
       "handAcc6_3           float64\n",
       "handGyro1            float64\n",
       "handGyro2            float64\n",
       "handGyro3            float64\n",
       "handMagne1           float64\n",
       "handMagne2           float64\n",
       "handMagne3           float64\n",
       "handOrientation1     float64\n",
       "handOrientation2     float64\n",
       "handOrientation3     float64\n",
       "handOrientation4     float64\n",
       "chestTemperature     float64\n",
       "chestAcc16_1         float64\n",
       "chestAcc16_2         float64\n",
       "chestAcc16_3         float64\n",
       "chestAcc6_1          float64\n",
       "chestAcc6_2          float64\n",
       "chestAcc6_3          float64\n",
       "chestGyro1           float64\n",
       "chestGyro2           float64\n",
       "chestGyro3           float64\n",
       "chestMagne1          float64\n",
       "chestMagne2          float64\n",
       "chestMagne3          float64\n",
       "chestOrientation1    float64\n",
       "chestOrientation2    float64\n",
       "chestOrientation3    float64\n",
       "chestOrientation4    float64\n",
       "ankleTemperature     float64\n",
       "ankleAcc16_1         float64\n",
       "ankleAcc16_2         float64\n",
       "ankleAcc16_3         float64\n",
       "ankleAcc6_1          float64\n",
       "ankleAcc6_2          float64\n",
       "ankleAcc6_3          float64\n",
       "ankleGyro1           float64\n",
       "ankleGyro2           float64\n",
       "ankleGyro3           float64\n",
       "ankleMagne1          float64\n",
       "ankleMagne2          float64\n",
       "ankleMagne3          float64\n",
       "ankleOrientation1    float64\n",
       "ankleOrientation2    float64\n",
       "ankleOrientation3    float64\n",
       "ankleOrientation4    float64\n",
       "subject_id             int64\n",
       "dtype: object"
      ]
     },
     "execution_count": 5,
     "metadata": {},
     "output_type": "execute_result"
    }
   ],
   "source": [
    "df.dtypes"
   ]
  },
  {
   "cell_type": "code",
   "execution_count": 6,
   "metadata": {
    "colab": {
     "base_uri": "https://localhost:8080/",
     "height": 748
    },
    "id": "HN-r7jIz4JnW",
    "outputId": "14ced561-d1db-44c0-f138-25f9bace22d2"
   },
   "outputs": [
    {
     "data": {
      "image/png": "[encoded data removed]",
      "text/plain": [
       "<Figure size 1080x720 with 2 Axes>"
      ]
     },
     "metadata": {
      "needs_background": "light"
     },
     "output_type": "display_data"
    }
   ],
   "source": [
    "from pandas.plotting import scatter_matrix\n",
    "import seaborn as sns\n",
    "import numpy as np\n",
    "\n",
    "df_corr = df.corr()\n",
    "\n",
    "f, ax = plt.subplots(figsize=(15, 10))\n",
    "sns.heatmap(df_corr, mask=np.zeros_like(df_corr, dtype=np.bool), cmap = \"BrBG\",ax=ax)\n",
    "plt.show()"
   ]
  },
  {
   "cell_type": "code",
   "execution_count": 7,
   "metadata": {
    "id": "iodW-65FhZPO"
   },
   "outputs": [],
   "source": [
    "corr_features = []\n",
    "\n",
    "for i in range(len(df_corr.columns)):\n",
    "    for j in range(i):\n",
    "        if abs(df_corr.iloc[i,j]) > 0.8:\n",
    "            colname = df_corr.columns[i]\n",
    "            colname = df_corr.columns[i]\n",
    "            corr_features.append(colname)"
   ]
  },
  {
   "cell_type": "code",
   "execution_count": 8,
   "metadata": {
    "colab": {
     "base_uri": "https://localhost:8080/"
    },
    "id": "eRr90Ql1iX8_",
    "outputId": "30671bb8-db42-4d9c-ce37-1f520ee91318"
   },
   "outputs": [
    {
     "data": {
      "text/plain": [
       "['handAcc6_1',\n",
       " 'handAcc6_2',\n",
       " 'handAcc6_3',\n",
       " 'chestAcc6_1',\n",
       " 'chestAcc6_2',\n",
       " 'chestAcc6_3',\n",
       " 'chestOrientation4',\n",
       " 'ankleAcc6_1',\n",
       " 'ankleAcc6_2']"
      ]
     },
     "execution_count": 8,
     "metadata": {},
     "output_type": "execute_result"
    }
   ],
   "source": [
    "corr_features"
   ]
  },
  {
   "cell_type": "code",
   "execution_count": 9,
   "metadata": {
    "colab": {
     "base_uri": "https://localhost:8080/"
    },
    "id": "4jqCpU-O4MIS",
    "outputId": "65c7ffc7-a4e6-43e3-bbec-2d052e545eb9"
   },
   "outputs": [
    {
     "data": {
      "text/plain": [
       "timestamp               0\n",
       "handTemperature      4041\n",
       "handAcc16_1          4041\n",
       "handAcc16_2          4041\n",
       "handAcc16_3          4041\n",
       "handAcc6_1           4041\n",
       "handAcc6_2           4041\n",
       "handAcc6_3           4041\n",
       "handGyro1            4041\n",
       "handGyro2            4041\n",
       "handGyro3            4041\n",
       "handMagne1           4041\n",
       "handMagne2           4041\n",
       "handMagne3           4041\n",
       "handOrientation1     4041\n",
       "handOrientation2     4041\n",
       "handOrientation3     4041\n",
       "handOrientation4     4041\n",
       "chestTemperature      809\n",
       "chestAcc16_1          809\n",
       "chestAcc16_2          809\n",
       "chestAcc16_3          809\n",
       "chestAcc6_1           809\n",
       "chestAcc6_2           809\n",
       "chestAcc6_3           809\n",
       "chestGyro1            809\n",
       "chestGyro2            809\n",
       "chestGyro3            809\n",
       "chestMagne1           809\n",
       "chestMagne2           809\n",
       "chestMagne3           809\n",
       "chestOrientation1     809\n",
       "chestOrientation2     809\n",
       "chestOrientation3     809\n",
       "chestOrientation4     809\n",
       "ankleTemperature     2546\n",
       "ankleAcc16_1         2546\n",
       "ankleAcc16_2         2546\n",
       "ankleAcc16_3         2546\n",
       "ankleAcc6_1          2546\n",
       "ankleAcc6_2          2546\n",
       "ankleAcc6_3          2546\n",
       "ankleGyro1           2546\n",
       "ankleGyro2           2546\n",
       "ankleGyro3           2546\n",
       "ankleMagne1          2546\n",
       "ankleMagne2          2546\n",
       "ankleMagne3          2546\n",
       "ankleOrientation1    2546\n",
       "ankleOrientation2    2546\n",
       "ankleOrientation3    2546\n",
       "ankleOrientation4    2546\n",
       "subject_id              0\n",
       "dtype: int64"
      ]
     },
     "execution_count": 9,
     "metadata": {},
     "output_type": "execute_result"
    }
   ],
   "source": [
    "df.isna().sum()"
   ]
  },
  {
   "cell_type": "code",
   "execution_count": 10,
   "metadata": {
    "id": "y56kwcUIdShn"
   },
   "outputs": [],
   "source": [
    "df = df.drop(columns=['timestamp', 'subject_id'])"
   ]
  },
  {
   "cell_type": "code",
   "execution_count": 11,
   "metadata": {
    "colab": {
     "base_uri": "https://localhost:8080/"
    },
    "id": "CnSfYzoSxdTg",
    "outputId": "5608a267-2075-431c-cd02-4fde09616005"
   },
   "outputs": [
    {
     "data": {
      "text/plain": [
       "handTemperature      4041\n",
       "handAcc16_1          4041\n",
       "handAcc16_2          4041\n",
       "handAcc16_3          4041\n",
       "handAcc6_1           4041\n",
       "handAcc6_2           4041\n",
       "handAcc6_3           4041\n",
       "handGyro1            4041\n",
       "handGyro2            4041\n",
       "handGyro3            4041\n",
       "handMagne1           4041\n",
       "handMagne2           4041\n",
       "handMagne3           4041\n",
       "handOrientation1     4041\n",
       "handOrientation2     4041\n",
       "handOrientation3     4041\n",
       "handOrientation4     4041\n",
       "chestTemperature      809\n",
       "chestAcc16_1          809\n",
       "chestAcc16_2          809\n",
       "chestAcc16_3          809\n",
       "chestAcc6_1           809\n",
       "chestAcc6_2           809\n",
       "chestAcc6_3           809\n",
       "chestGyro1            809\n",
       "chestGyro2            809\n",
       "chestGyro3            809\n",
       "chestMagne1           809\n",
       "chestMagne2           809\n",
       "chestMagne3           809\n",
       "chestOrientation1     809\n",
       "chestOrientation2     809\n",
       "chestOrientation3     809\n",
       "chestOrientation4     809\n",
       "ankleTemperature     2546\n",
       "ankleAcc16_1         2546\n",
       "ankleAcc16_2         2546\n",
       "ankleAcc16_3         2546\n",
       "ankleAcc6_1          2546\n",
       "ankleAcc6_2          2546\n",
       "ankleAcc6_3          2546\n",
       "ankleGyro1           2546\n",
       "ankleGyro2           2546\n",
       "ankleGyro3           2546\n",
       "ankleMagne1          2546\n",
       "ankleMagne2          2546\n",
       "ankleMagne3          2546\n",
       "ankleOrientation1    2546\n",
       "ankleOrientation2    2546\n",
       "ankleOrientation3    2546\n",
       "ankleOrientation4    2546\n",
       "dtype: int64"
      ]
     },
     "execution_count": 11,
     "metadata": {},
     "output_type": "execute_result"
    }
   ],
   "source": [
    "df.isna().sum() "
   ]
  },
  {
   "cell_type": "code",
   "execution_count": 12,
   "metadata": {
    "colab": {
     "base_uri": "https://localhost:8080/"
    },
    "id": "Rln4uDTy0Guw",
    "outputId": "c2c73cb0-e920-42a4-f704-6e3501840d53"
   },
   "outputs": [
    {
     "data": {
      "text/plain": [
       "handTemperature      4041\n",
       "handAcc16_1             0\n",
       "handAcc16_2             0\n",
       "handAcc16_3             0\n",
       "handAcc6_1              0\n",
       "handAcc6_2              0\n",
       "handAcc6_3              0\n",
       "handGyro1               0\n",
       "handGyro2               0\n",
       "handGyro3               0\n",
       "handMagne1              0\n",
       "handMagne2              0\n",
       "handMagne3              0\n",
       "handOrientation1        0\n",
       "handOrientation2        0\n",
       "handOrientation3        0\n",
       "handOrientation4        0\n",
       "chestTemperature        0\n",
       "chestAcc16_1            0\n",
       "chestAcc16_2            0\n",
       "chestAcc16_3            0\n",
       "chestAcc6_1             0\n",
       "chestAcc6_2             0\n",
       "chestAcc6_3             0\n",
       "chestGyro1              0\n",
       "chestGyro2              0\n",
       "chestGyro3              0\n",
       "chestMagne1             0\n",
       "chestMagne2             0\n",
       "chestMagne3             0\n",
       "chestOrientation1       0\n",
       "chestOrientation2       0\n",
       "chestOrientation3       0\n",
       "chestOrientation4       0\n",
       "ankleTemperature     2546\n",
       "ankleAcc16_1         2546\n",
       "ankleAcc16_2         2546\n",
       "ankleAcc16_3         2546\n",
       "ankleAcc6_1          2546\n",
       "ankleAcc6_2          2546\n",
       "ankleAcc6_3          2546\n",
       "ankleGyro1           2546\n",
       "ankleGyro2           2546\n",
       "ankleGyro3           2546\n",
       "ankleMagne1          2546\n",
       "ankleMagne2          2546\n",
       "ankleMagne3          2546\n",
       "ankleOrientation1    2546\n",
       "ankleOrientation2    2546\n",
       "ankleOrientation3    2546\n",
       "ankleOrientation4    2546\n",
       "dtype: int64"
      ]
     },
     "execution_count": 12,
     "metadata": {},
     "output_type": "execute_result"
    }
   ],
   "source": [
    "# заполнение пропусков средним значением\n",
    "\n",
    "col_missing = ['handAcc16_1', 'handAcc16_2',\n",
    "               'handAcc16_3', 'handAcc6_1', 'handAcc6_2', 'handAcc6_3', 'handGyro1',\n",
    "               'handGyro2', 'handGyro3', 'handMagne1', 'handMagne2', 'handMagne3',\n",
    "               'handOrientation1', 'handOrientation2', 'handOrientation3', 'handOrientation4',\n",
    "               'chestTemperature', 'chestAcc16_1', 'chestAcc16_2',\n",
    "               'chestAcc16_3', 'chestAcc6_1', 'chestAcc6_2', 'chestAcc6_3',\n",
    "               'chestGyro1', 'chestGyro2', 'chestGyro3', 'chestMagne1', 'chestMagne2',\n",
    "               'chestMagne3', 'chestOrientation1', 'chestOrientation2',\n",
    "               'chestOrientation3', 'chestOrientation4']\n",
    "\n",
    "for i in col_missing:\n",
    "    df[i].fillna(df[i].mean(), inplace=True)\n",
    "\n",
    "df.isna().sum()"
   ]
  },
  {
   "cell_type": "code",
   "execution_count": 13,
   "metadata": {
    "colab": {
     "base_uri": "https://localhost:8080/"
    },
    "id": "RTNeEB_04Dg9",
    "outputId": "04d19311-91e1-4e8f-d4dc-b8f907a4b190"
   },
   "outputs": [
    {
     "name": "stdout",
     "output_type": "stream",
     "text": [
      "Wall time: 21min 37s\n"
     ]
    },
    {
     "data": {
      "text/plain": [
       "handTemperature      4041\n",
       "handAcc16_1             0\n",
       "handAcc16_2             0\n",
       "handAcc16_3             0\n",
       "handAcc6_1              0\n",
       "handAcc6_2              0\n",
       "handAcc6_3              0\n",
       "handGyro1               0\n",
       "handGyro2               0\n",
       "handGyro3               0\n",
       "handMagne1              0\n",
       "handMagne2              0\n",
       "handMagne3              0\n",
       "handOrientation1        0\n",
       "handOrientation2        0\n",
       "handOrientation3        0\n",
       "handOrientation4        0\n",
       "chestTemperature        0\n",
       "chestAcc16_1            0\n",
       "chestAcc16_2            0\n",
       "chestAcc16_3            0\n",
       "chestAcc6_1             0\n",
       "chestAcc6_2             0\n",
       "chestAcc6_3             0\n",
       "chestGyro1              0\n",
       "chestGyro2              0\n",
       "chestGyro3              0\n",
       "chestMagne1             0\n",
       "chestMagne2             0\n",
       "chestMagne3             0\n",
       "chestOrientation1       0\n",
       "chestOrientation2       0\n",
       "chestOrientation3       0\n",
       "chestOrientation4       0\n",
       "ankleTemperature     2546\n",
       "ankleAcc16_1         2546\n",
       "ankleAcc16_2         2546\n",
       "ankleAcc16_3         2546\n",
       "ankleAcc6_1          2546\n",
       "ankleAcc6_2          2546\n",
       "ankleAcc6_3          2546\n",
       "ankleGyro1           2546\n",
       "ankleGyro2           2546\n",
       "ankleGyro3           2546\n",
       "ankleMagne1          2546\n",
       "ankleMagne2          2546\n",
       "ankleMagne3          2546\n",
       "ankleOrientation1    2546\n",
       "ankleOrientation2    2546\n",
       "ankleOrientation3    2546\n",
       "ankleOrientation4    2546\n",
       "dtype: int64"
      ]
     },
     "execution_count": 13,
     "metadata": {},
     "output_type": "execute_result"
    }
   ],
   "source": [
    "%%time\n",
    "from sklearn.impute import KNNImputer\n",
    "\n",
    "imputer = KNNImputer(n_neighbors=25)\n",
    "imputer.fit_transform(df)\n",
    "\n",
    "df.isna().sum()"
   ]
  },
  {
   "cell_type": "code",
   "execution_count": 14,
   "metadata": {
    "colab": {
     "base_uri": "https://localhost:8080/"
    },
    "id": "SWGlxR724YsB",
    "outputId": "37b33c8c-9ab7-46bd-d168-7e6a0da4cf7c"
   },
   "outputs": [
    {
     "data": {
      "text/plain": [
       "handTemperature      0\n",
       "handAcc16_1          0\n",
       "handAcc16_2          0\n",
       "handAcc16_3          0\n",
       "handAcc6_1           0\n",
       "handAcc6_2           0\n",
       "handAcc6_3           0\n",
       "handGyro1            0\n",
       "handGyro2            0\n",
       "handGyro3            0\n",
       "handMagne1           0\n",
       "handMagne2           0\n",
       "handMagne3           0\n",
       "handOrientation1     0\n",
       "handOrientation2     0\n",
       "handOrientation3     0\n",
       "handOrientation4     0\n",
       "chestTemperature     0\n",
       "chestAcc16_1         0\n",
       "chestAcc16_2         0\n",
       "chestAcc16_3         0\n",
       "chestAcc6_1          0\n",
       "chestAcc6_2          0\n",
       "chestAcc6_3          0\n",
       "chestGyro1           0\n",
       "chestGyro2           0\n",
       "chestGyro3           0\n",
       "chestMagne1          0\n",
       "chestMagne2          0\n",
       "chestMagne3          0\n",
       "chestOrientation1    0\n",
       "chestOrientation2    0\n",
       "chestOrientation3    0\n",
       "chestOrientation4    0\n",
       "ankleTemperature     0\n",
       "ankleAcc16_1         0\n",
       "ankleAcc16_2         0\n",
       "ankleAcc16_3         0\n",
       "ankleAcc6_1          0\n",
       "ankleAcc6_2          0\n",
       "ankleAcc6_3          0\n",
       "ankleGyro1           0\n",
       "ankleGyro2           0\n",
       "ankleGyro3           0\n",
       "ankleMagne1          0\n",
       "ankleMagne2          0\n",
       "ankleMagne3          0\n",
       "ankleOrientation1    0\n",
       "ankleOrientation2    0\n",
       "ankleOrientation3    0\n",
       "ankleOrientation4    0\n",
       "dtype: int64"
      ]
     },
     "execution_count": 14,
     "metadata": {},
     "output_type": "execute_result"
    }
   ],
   "source": [
    "df = df.interpolate()\n",
    "df.isna().sum()"
   ]
  },
  {
   "cell_type": "code",
   "execution_count": 15,
   "metadata": {
    "colab": {
     "base_uri": "https://localhost:8080/",
     "height": 299
    },
    "id": "WQ0kptAnkBDB",
    "outputId": "6a408afd-815e-48d8-e7bc-d20ca1881e18"
   },
   "outputs": [
    {
     "data": {
      "text/html": [
       "<div>\n",
       "<style scoped>\n",
       "    .dataframe tbody tr th:only-of-type {\n",
       "        vertical-align: middle;\n",
       "    }\n",
       "\n",
       "    .dataframe tbody tr th {\n",
       "        vertical-align: top;\n",
       "    }\n",
       "\n",
       "    .dataframe thead th {\n",
       "        text-align: right;\n",
       "    }\n",
       "</style>\n",
       "<table border=\"1\" class=\"dataframe\">\n",
       "  <thead>\n",
       "    <tr style=\"text-align: right;\">\n",
       "      <th></th>\n",
       "      <th>handTemperature</th>\n",
       "      <th>handAcc16_1</th>\n",
       "      <th>handAcc16_2</th>\n",
       "      <th>handAcc16_3</th>\n",
       "      <th>handAcc6_1</th>\n",
       "      <th>handAcc6_2</th>\n",
       "      <th>handAcc6_3</th>\n",
       "      <th>handGyro1</th>\n",
       "      <th>handGyro2</th>\n",
       "      <th>handGyro3</th>\n",
       "      <th>...</th>\n",
       "      <th>ankleGyro1</th>\n",
       "      <th>ankleGyro2</th>\n",
       "      <th>ankleGyro3</th>\n",
       "      <th>ankleMagne1</th>\n",
       "      <th>ankleMagne2</th>\n",
       "      <th>ankleMagne3</th>\n",
       "      <th>ankleOrientation1</th>\n",
       "      <th>ankleOrientation2</th>\n",
       "      <th>ankleOrientation3</th>\n",
       "      <th>ankleOrientation4</th>\n",
       "    </tr>\n",
       "  </thead>\n",
       "  <tbody>\n",
       "    <tr>\n",
       "      <th>0</th>\n",
       "      <td>34.8750</td>\n",
       "      <td>0.902847</td>\n",
       "      <td>7.45872</td>\n",
       "      <td>6.032490</td>\n",
       "      <td>1.006100</td>\n",
       "      <td>7.44575</td>\n",
       "      <td>6.303650</td>\n",
       "      <td>-0.021952</td>\n",
       "      <td>0.004114</td>\n",
       "      <td>-0.000752</td>\n",
       "      <td>...</td>\n",
       "      <td>0.043954</td>\n",
       "      <td>-0.025606</td>\n",
       "      <td>0.030239</td>\n",
       "      <td>-14.5447</td>\n",
       "      <td>27.3336</td>\n",
       "      <td>-5.76620</td>\n",
       "      <td>0.206416</td>\n",
       "      <td>0.348212</td>\n",
       "      <td>0.763201</td>\n",
       "      <td>-0.503652</td>\n",
       "    </tr>\n",
       "    <tr>\n",
       "      <th>1</th>\n",
       "      <td>29.7500</td>\n",
       "      <td>-4.069330</td>\n",
       "      <td>3.76168</td>\n",
       "      <td>8.279720</td>\n",
       "      <td>-5.972500</td>\n",
       "      <td>3.22273</td>\n",
       "      <td>6.908970</td>\n",
       "      <td>0.116054</td>\n",
       "      <td>-0.375968</td>\n",
       "      <td>-0.012890</td>\n",
       "      <td>...</td>\n",
       "      <td>-0.319186</td>\n",
       "      <td>-0.670163</td>\n",
       "      <td>1.786200</td>\n",
       "      <td>-32.8257</td>\n",
       "      <td>-15.7719</td>\n",
       "      <td>-1.31395</td>\n",
       "      <td>0.578332</td>\n",
       "      <td>-0.566734</td>\n",
       "      <td>0.405888</td>\n",
       "      <td>-0.423791</td>\n",
       "    </tr>\n",
       "    <tr>\n",
       "      <th>2</th>\n",
       "      <td>34.3750</td>\n",
       "      <td>-2.007540</td>\n",
       "      <td>-9.60180</td>\n",
       "      <td>0.773674</td>\n",
       "      <td>-1.803500</td>\n",
       "      <td>-9.58937</td>\n",
       "      <td>1.073680</td>\n",
       "      <td>0.020131</td>\n",
       "      <td>0.042189</td>\n",
       "      <td>-0.011507</td>\n",
       "      <td>...</td>\n",
       "      <td>0.065654</td>\n",
       "      <td>-0.009741</td>\n",
       "      <td>-0.006579</td>\n",
       "      <td>-18.8171</td>\n",
       "      <td>16.3089</td>\n",
       "      <td>25.29280</td>\n",
       "      <td>0.139776</td>\n",
       "      <td>0.676586</td>\n",
       "      <td>0.393796</td>\n",
       "      <td>0.606316</td>\n",
       "    </tr>\n",
       "    <tr>\n",
       "      <th>3</th>\n",
       "      <td>31.9375</td>\n",
       "      <td>-13.262200</td>\n",
       "      <td>5.85443</td>\n",
       "      <td>0.899334</td>\n",
       "      <td>-13.611500</td>\n",
       "      <td>5.91511</td>\n",
       "      <td>0.840377</td>\n",
       "      <td>1.715630</td>\n",
       "      <td>-0.050492</td>\n",
       "      <td>-1.829000</td>\n",
       "      <td>...</td>\n",
       "      <td>2.970010</td>\n",
       "      <td>-0.163470</td>\n",
       "      <td>-3.495570</td>\n",
       "      <td>-26.7418</td>\n",
       "      <td>34.3566</td>\n",
       "      <td>21.32740</td>\n",
       "      <td>0.416303</td>\n",
       "      <td>0.783387</td>\n",
       "      <td>0.306464</td>\n",
       "      <td>0.345075</td>\n",
       "    </tr>\n",
       "    <tr>\n",
       "      <th>4</th>\n",
       "      <td>33.5000</td>\n",
       "      <td>-0.013940</td>\n",
       "      <td>8.66540</td>\n",
       "      <td>4.398210</td>\n",
       "      <td>0.144153</td>\n",
       "      <td>8.56816</td>\n",
       "      <td>4.822200</td>\n",
       "      <td>-0.006938</td>\n",
       "      <td>-0.007383</td>\n",
       "      <td>-0.032679</td>\n",
       "      <td>...</td>\n",
       "      <td>0.013953</td>\n",
       "      <td>-0.028172</td>\n",
       "      <td>-0.003737</td>\n",
       "      <td>-17.7798</td>\n",
       "      <td>-3.9981</td>\n",
       "      <td>10.99500</td>\n",
       "      <td>0.171133</td>\n",
       "      <td>-0.748343</td>\n",
       "      <td>0.252988</td>\n",
       "      <td>-0.588807</td>\n",
       "    </tr>\n",
       "  </tbody>\n",
       "</table>\n",
       "<p>5 rows × 51 columns</p>\n",
       "</div>"
      ],
      "text/plain": [
       "   handTemperature  handAcc16_1  handAcc16_2  handAcc16_3  handAcc6_1  \\\n",
       "0          34.8750     0.902847      7.45872     6.032490    1.006100   \n",
       "1          29.7500    -4.069330      3.76168     8.279720   -5.972500   \n",
       "2          34.3750    -2.007540     -9.60180     0.773674   -1.803500   \n",
       "3          31.9375   -13.262200      5.85443     0.899334  -13.611500   \n",
       "4          33.5000    -0.013940      8.66540     4.398210    0.144153   \n",
       "\n",
       "   handAcc6_2  handAcc6_3  handGyro1  handGyro2  handGyro3  ...  ankleGyro1  \\\n",
       "0     7.44575    6.303650  -0.021952   0.004114  -0.000752  ...    0.043954   \n",
       "1     3.22273    6.908970   0.116054  -0.375968  -0.012890  ...   -0.319186   \n",
       "2    -9.58937    1.073680   0.020131   0.042189  -0.011507  ...    0.065654   \n",
       "3     5.91511    0.840377   1.715630  -0.050492  -1.829000  ...    2.970010   \n",
       "4     8.56816    4.822200  -0.006938  -0.007383  -0.032679  ...    0.013953   \n",
       "\n",
       "   ankleGyro2  ankleGyro3  ankleMagne1  ankleMagne2  ankleMagne3  \\\n",
       "0   -0.025606    0.030239     -14.5447      27.3336     -5.76620   \n",
       "1   -0.670163    1.786200     -32.8257     -15.7719     -1.31395   \n",
       "2   -0.009741   -0.006579     -18.8171      16.3089     25.29280   \n",
       "3   -0.163470   -3.495570     -26.7418      34.3566     21.32740   \n",
       "4   -0.028172   -0.003737     -17.7798      -3.9981     10.99500   \n",
       "\n",
       "   ankleOrientation1  ankleOrientation2  ankleOrientation3  ankleOrientation4  \n",
       "0           0.206416           0.348212           0.763201          -0.503652  \n",
       "1           0.578332          -0.566734           0.405888          -0.423791  \n",
       "2           0.139776           0.676586           0.393796           0.606316  \n",
       "3           0.416303           0.783387           0.306464           0.345075  \n",
       "4           0.171133          -0.748343           0.252988          -0.588807  \n",
       "\n",
       "[5 rows x 51 columns]"
      ]
     },
     "execution_count": 15,
     "metadata": {},
     "output_type": "execute_result"
    }
   ],
   "source": [
    "df.head()"
   ]
  },
  {
   "cell_type": "code",
   "execution_count": 16,
   "metadata": {
    "colab": {
     "base_uri": "https://localhost:8080/",
     "height": 488
    },
    "id": "ftuMBeBt1oi_",
    "outputId": "a43f9c77-37f6-4b1d-aeb9-56c30d2ded4d"
   },
   "outputs": [
    {
     "data": {
      "text/html": [
       "<div>\n",
       "<style scoped>\n",
       "    .dataframe tbody tr th:only-of-type {\n",
       "        vertical-align: middle;\n",
       "    }\n",
       "\n",
       "    .dataframe tbody tr th {\n",
       "        vertical-align: top;\n",
       "    }\n",
       "\n",
       "    .dataframe thead th {\n",
       "        text-align: right;\n",
       "    }\n",
       "</style>\n",
       "<table border=\"1\" class=\"dataframe\">\n",
       "  <thead>\n",
       "    <tr style=\"text-align: right;\">\n",
       "      <th></th>\n",
       "      <th>handTemperature</th>\n",
       "      <th>handAcc16_1</th>\n",
       "      <th>handAcc16_2</th>\n",
       "      <th>handAcc16_3</th>\n",
       "      <th>handAcc6_1</th>\n",
       "      <th>handAcc6_2</th>\n",
       "      <th>handAcc6_3</th>\n",
       "      <th>handGyro1</th>\n",
       "      <th>handGyro2</th>\n",
       "      <th>handGyro3</th>\n",
       "      <th>...</th>\n",
       "      <th>ankleGyro1</th>\n",
       "      <th>ankleGyro2</th>\n",
       "      <th>ankleGyro3</th>\n",
       "      <th>ankleMagne1</th>\n",
       "      <th>ankleMagne2</th>\n",
       "      <th>ankleMagne3</th>\n",
       "      <th>ankleOrientation1</th>\n",
       "      <th>ankleOrientation2</th>\n",
       "      <th>ankleOrientation3</th>\n",
       "      <th>ankleOrientation4</th>\n",
       "    </tr>\n",
       "  </thead>\n",
       "  <tbody>\n",
       "    <tr>\n",
       "      <th>0</th>\n",
       "      <td>1.383760</td>\n",
       "      <td>7.587688e-01</td>\n",
       "      <td>5.859337e-01</td>\n",
       "      <td>5.117224e-01</td>\n",
       "      <td>7.642506e-01</td>\n",
       "      <td>6.181657e-01</td>\n",
       "      <td>5.360725e-01</td>\n",
       "      <td>-1.133458e-02</td>\n",
       "      <td>-2.673760e-02</td>\n",
       "      <td>-4.757835e-04</td>\n",
       "      <td>...</td>\n",
       "      <td>0.027372</td>\n",
       "      <td>0.010026</td>\n",
       "      <td>0.013753</td>\n",
       "      <td>0.737136</td>\n",
       "      <td>1.134555</td>\n",
       "      <td>-1.145553</td>\n",
       "      <td>-0.510941</td>\n",
       "      <td>0.786246</td>\n",
       "      <td>1.336797</td>\n",
       "      <td>-0.708140</td>\n",
       "    </tr>\n",
       "    <tr>\n",
       "      <th>1</th>\n",
       "      <td>-1.542161</td>\n",
       "      <td>5.201739e-02</td>\n",
       "      <td>7.221827e-02</td>\n",
       "      <td>1.100504e+00</td>\n",
       "      <td>-2.267199e-01</td>\n",
       "      <td>6.551038e-04</td>\n",
       "      <td>6.950502e-01</td>\n",
       "      <td>1.080767e-01</td>\n",
       "      <td>-4.383841e-01</td>\n",
       "      <td>-8.013801e-03</td>\n",
       "      <td>...</td>\n",
       "      <td>-0.351592</td>\n",
       "      <td>-1.032808</td>\n",
       "      <td>0.877262</td>\n",
       "      <td>-0.210992</td>\n",
       "      <td>-0.804863</td>\n",
       "      <td>-0.896624</td>\n",
       "      <td>0.725106</td>\n",
       "      <td>-0.851330</td>\n",
       "      <td>0.297695</td>\n",
       "      <td>-0.536677</td>\n",
       "    </tr>\n",
       "    <tr>\n",
       "      <th>2</th>\n",
       "      <td>1.098304</td>\n",
       "      <td>3.450828e-01</td>\n",
       "      <td>-1.784680e+00</td>\n",
       "      <td>-8.661045e-01</td>\n",
       "      <td>3.652836e-01</td>\n",
       "      <td>-1.872793e+00</td>\n",
       "      <td>-8.374967e-01</td>\n",
       "      <td>2.507819e-02</td>\n",
       "      <td>1.449947e-02</td>\n",
       "      <td>-7.154714e-03</td>\n",
       "      <td>...</td>\n",
       "      <td>0.050018</td>\n",
       "      <td>0.035695</td>\n",
       "      <td>-0.004352</td>\n",
       "      <td>0.515551</td>\n",
       "      <td>0.638528</td>\n",
       "      <td>0.590981</td>\n",
       "      <td>-0.732416</td>\n",
       "      <td>1.373972</td>\n",
       "      <td>0.262530</td>\n",
       "      <td>1.674988</td>\n",
       "    </tr>\n",
       "    <tr>\n",
       "      <th>3</th>\n",
       "      <td>-0.293292</td>\n",
       "      <td>-1.254669e+00</td>\n",
       "      <td>3.630125e-01</td>\n",
       "      <td>-8.331812e-01</td>\n",
       "      <td>-1.311468e+00</td>\n",
       "      <td>3.943481e-01</td>\n",
       "      <td>-8.987701e-01</td>\n",
       "      <td>1.492130e+00</td>\n",
       "      <td>-8.587803e-02</td>\n",
       "      <td>-1.135812e+00</td>\n",
       "      <td>...</td>\n",
       "      <td>3.080933</td>\n",
       "      <td>-0.213025</td>\n",
       "      <td>-1.720091</td>\n",
       "      <td>0.104544</td>\n",
       "      <td>1.450536</td>\n",
       "      <td>0.369273</td>\n",
       "      <td>0.186609</td>\n",
       "      <td>1.565125</td>\n",
       "      <td>0.008559</td>\n",
       "      <td>1.114097</td>\n",
       "    </tr>\n",
       "    <tr>\n",
       "      <th>4</th>\n",
       "      <td>0.598757</td>\n",
       "      <td>6.284556e-01</td>\n",
       "      <td>7.536057e-01</td>\n",
       "      <td>8.353575e-02</td>\n",
       "      <td>6.418530e-01</td>\n",
       "      <td>7.822900e-01</td>\n",
       "      <td>1.469930e-01</td>\n",
       "      <td>1.656410e-03</td>\n",
       "      <td>-3.918929e-02</td>\n",
       "      <td>-2.030283e-02</td>\n",
       "      <td>...</td>\n",
       "      <td>-0.003937</td>\n",
       "      <td>0.005874</td>\n",
       "      <td>-0.002954</td>\n",
       "      <td>0.569350</td>\n",
       "      <td>-0.275132</td>\n",
       "      <td>-0.208420</td>\n",
       "      <td>-0.628202</td>\n",
       "      <td>-1.176374</td>\n",
       "      <td>-0.146954</td>\n",
       "      <td>-0.890970</td>\n",
       "    </tr>\n",
       "    <tr>\n",
       "      <th>...</th>\n",
       "      <td>...</td>\n",
       "      <td>...</td>\n",
       "      <td>...</td>\n",
       "      <td>...</td>\n",
       "      <td>...</td>\n",
       "      <td>...</td>\n",
       "      <td>...</td>\n",
       "      <td>...</td>\n",
       "      <td>...</td>\n",
       "      <td>...</td>\n",
       "      <td>...</td>\n",
       "      <td>...</td>\n",
       "      <td>...</td>\n",
       "      <td>...</td>\n",
       "      <td>...</td>\n",
       "      <td>...</td>\n",
       "      <td>...</td>\n",
       "      <td>...</td>\n",
       "      <td>...</td>\n",
       "      <td>...</td>\n",
       "      <td>...</td>\n",
       "    </tr>\n",
       "    <tr>\n",
       "      <th>534596</th>\n",
       "      <td>0.812849</td>\n",
       "      <td>-6.608096e-01</td>\n",
       "      <td>2.027703e-01</td>\n",
       "      <td>-3.115757e-01</td>\n",
       "      <td>-7.545546e-01</td>\n",
       "      <td>5.209291e-01</td>\n",
       "      <td>-7.539783e-02</td>\n",
       "      <td>-1.285381e-01</td>\n",
       "      <td>8.072893e-01</td>\n",
       "      <td>2.713200e+00</td>\n",
       "      <td>...</td>\n",
       "      <td>-0.741746</td>\n",
       "      <td>0.738288</td>\n",
       "      <td>-0.422473</td>\n",
       "      <td>0.194368</td>\n",
       "      <td>-1.155074</td>\n",
       "      <td>0.497191</td>\n",
       "      <td>-0.139528</td>\n",
       "      <td>-1.093288</td>\n",
       "      <td>0.733590</td>\n",
       "      <td>-0.296111</td>\n",
       "    </tr>\n",
       "    <tr>\n",
       "      <th>534597</th>\n",
       "      <td>1.044781</td>\n",
       "      <td>1.363465e-14</td>\n",
       "      <td>2.005497e-14</td>\n",
       "      <td>2.606303e-14</td>\n",
       "      <td>-8.197964e-15</td>\n",
       "      <td>9.091165e-16</td>\n",
       "      <td>-2.565927e-15</td>\n",
       "      <td>4.052678e-17</td>\n",
       "      <td>4.509086e-17</td>\n",
       "      <td>-1.454192e-17</td>\n",
       "      <td>...</td>\n",
       "      <td>1.671709</td>\n",
       "      <td>-2.808538</td>\n",
       "      <td>-1.501461</td>\n",
       "      <td>-0.360189</td>\n",
       "      <td>1.335589</td>\n",
       "      <td>0.094996</td>\n",
       "      <td>0.251696</td>\n",
       "      <td>1.345437</td>\n",
       "      <td>0.198171</td>\n",
       "      <td>1.414949</td>\n",
       "    </tr>\n",
       "    <tr>\n",
       "      <th>534598</th>\n",
       "      <td>1.276714</td>\n",
       "      <td>-2.746544e-01</td>\n",
       "      <td>-1.279257e-01</td>\n",
       "      <td>-4.904008e-01</td>\n",
       "      <td>-2.820948e-01</td>\n",
       "      <td>-1.298126e-01</td>\n",
       "      <td>-4.346342e-01</td>\n",
       "      <td>1.862056e-01</td>\n",
       "      <td>-4.204564e-01</td>\n",
       "      <td>1.219219e+00</td>\n",
       "      <td>...</td>\n",
       "      <td>-0.792196</td>\n",
       "      <td>-0.003788</td>\n",
       "      <td>-0.198810</td>\n",
       "      <td>-1.085757</td>\n",
       "      <td>0.831770</td>\n",
       "      <td>-0.874481</td>\n",
       "      <td>0.669670</td>\n",
       "      <td>0.696299</td>\n",
       "      <td>1.318086</td>\n",
       "      <td>0.699344</td>\n",
       "    </tr>\n",
       "    <tr>\n",
       "      <th>534599</th>\n",
       "      <td>-2.505574</td>\n",
       "      <td>1.406804e+00</td>\n",
       "      <td>9.996917e-01</td>\n",
       "      <td>-3.446044e+00</td>\n",
       "      <td>1.806932e+00</td>\n",
       "      <td>3.724246e-01</td>\n",
       "      <td>-2.732899e+00</td>\n",
       "      <td>3.074073e+00</td>\n",
       "      <td>2.955090e+00</td>\n",
       "      <td>5.457937e-02</td>\n",
       "      <td>...</td>\n",
       "      <td>-3.595791</td>\n",
       "      <td>0.621058</td>\n",
       "      <td>-2.744020</td>\n",
       "      <td>-0.279940</td>\n",
       "      <td>-0.593700</td>\n",
       "      <td>1.398596</td>\n",
       "      <td>-0.990360</td>\n",
       "      <td>-1.266513</td>\n",
       "      <td>-1.047464</td>\n",
       "      <td>-0.906017</td>\n",
       "    </tr>\n",
       "    <tr>\n",
       "      <th>534600</th>\n",
       "      <td>0.491711</td>\n",
       "      <td>-6.809453e-01</td>\n",
       "      <td>-1.717307e-01</td>\n",
       "      <td>-3.803358e-01</td>\n",
       "      <td>-6.674864e-01</td>\n",
       "      <td>-1.821245e-01</td>\n",
       "      <td>-3.742099e-01</td>\n",
       "      <td>6.142227e-03</td>\n",
       "      <td>-4.981237e-02</td>\n",
       "      <td>1.336540e-03</td>\n",
       "      <td>...</td>\n",
       "      <td>0.000946</td>\n",
       "      <td>0.025501</td>\n",
       "      <td>0.001756</td>\n",
       "      <td>1.439027</td>\n",
       "      <td>-0.833537</td>\n",
       "      <td>0.025650</td>\n",
       "      <td>-0.120129</td>\n",
       "      <td>-1.109493</td>\n",
       "      <td>-0.221439</td>\n",
       "      <td>-0.874713</td>\n",
       "    </tr>\n",
       "  </tbody>\n",
       "</table>\n",
       "<p>534601 rows × 51 columns</p>\n",
       "</div>"
      ],
      "text/plain": [
       "        handTemperature   handAcc16_1   handAcc16_2   handAcc16_3  \\\n",
       "0              1.383760  7.587688e-01  5.859337e-01  5.117224e-01   \n",
       "1             -1.542161  5.201739e-02  7.221827e-02  1.100504e+00   \n",
       "2              1.098304  3.450828e-01 -1.784680e+00 -8.661045e-01   \n",
       "3             -0.293292 -1.254669e+00  3.630125e-01 -8.331812e-01   \n",
       "4              0.598757  6.284556e-01  7.536057e-01  8.353575e-02   \n",
       "...                 ...           ...           ...           ...   \n",
       "534596         0.812849 -6.608096e-01  2.027703e-01 -3.115757e-01   \n",
       "534597         1.044781  1.363465e-14  2.005497e-14  2.606303e-14   \n",
       "534598         1.276714 -2.746544e-01 -1.279257e-01 -4.904008e-01   \n",
       "534599        -2.505574  1.406804e+00  9.996917e-01 -3.446044e+00   \n",
       "534600         0.491711 -6.809453e-01 -1.717307e-01 -3.803358e-01   \n",
       "\n",
       "          handAcc6_1    handAcc6_2    handAcc6_3     handGyro1     handGyro2  \\\n",
       "0       7.642506e-01  6.181657e-01  5.360725e-01 -1.133458e-02 -2.673760e-02   \n",
       "1      -2.267199e-01  6.551038e-04  6.950502e-01  1.080767e-01 -4.383841e-01   \n",
       "2       3.652836e-01 -1.872793e+00 -8.374967e-01  2.507819e-02  1.449947e-02   \n",
       "3      -1.311468e+00  3.943481e-01 -8.987701e-01  1.492130e+00 -8.587803e-02   \n",
       "4       6.418530e-01  7.822900e-01  1.469930e-01  1.656410e-03 -3.918929e-02   \n",
       "...              ...           ...           ...           ...           ...   \n",
       "534596 -7.545546e-01  5.209291e-01 -7.539783e-02 -1.285381e-01  8.072893e-01   \n",
       "534597 -8.197964e-15  9.091165e-16 -2.565927e-15  4.052678e-17  4.509086e-17   \n",
       "534598 -2.820948e-01 -1.298126e-01 -4.346342e-01  1.862056e-01 -4.204564e-01   \n",
       "534599  1.806932e+00  3.724246e-01 -2.732899e+00  3.074073e+00  2.955090e+00   \n",
       "534600 -6.674864e-01 -1.821245e-01 -3.742099e-01  6.142227e-03 -4.981237e-02   \n",
       "\n",
       "           handGyro3  ...  ankleGyro1  ankleGyro2  ankleGyro3  ankleMagne1  \\\n",
       "0      -4.757835e-04  ...    0.027372    0.010026    0.013753     0.737136   \n",
       "1      -8.013801e-03  ...   -0.351592   -1.032808    0.877262    -0.210992   \n",
       "2      -7.154714e-03  ...    0.050018    0.035695   -0.004352     0.515551   \n",
       "3      -1.135812e+00  ...    3.080933   -0.213025   -1.720091     0.104544   \n",
       "4      -2.030283e-02  ...   -0.003937    0.005874   -0.002954     0.569350   \n",
       "...              ...  ...         ...         ...         ...          ...   \n",
       "534596  2.713200e+00  ...   -0.741746    0.738288   -0.422473     0.194368   \n",
       "534597 -1.454192e-17  ...    1.671709   -2.808538   -1.501461    -0.360189   \n",
       "534598  1.219219e+00  ...   -0.792196   -0.003788   -0.198810    -1.085757   \n",
       "534599  5.457937e-02  ...   -3.595791    0.621058   -2.744020    -0.279940   \n",
       "534600  1.336540e-03  ...    0.000946    0.025501    0.001756     1.439027   \n",
       "\n",
       "        ankleMagne2  ankleMagne3  ankleOrientation1  ankleOrientation2  \\\n",
       "0          1.134555    -1.145553          -0.510941           0.786246   \n",
       "1         -0.804863    -0.896624           0.725106          -0.851330   \n",
       "2          0.638528     0.590981          -0.732416           1.373972   \n",
       "3          1.450536     0.369273           0.186609           1.565125   \n",
       "4         -0.275132    -0.208420          -0.628202          -1.176374   \n",
       "...             ...          ...                ...                ...   \n",
       "534596    -1.155074     0.497191          -0.139528          -1.093288   \n",
       "534597     1.335589     0.094996           0.251696           1.345437   \n",
       "534598     0.831770    -0.874481           0.669670           0.696299   \n",
       "534599    -0.593700     1.398596          -0.990360          -1.266513   \n",
       "534600    -0.833537     0.025650          -0.120129          -1.109493   \n",
       "\n",
       "        ankleOrientation3  ankleOrientation4  \n",
       "0                1.336797          -0.708140  \n",
       "1                0.297695          -0.536677  \n",
       "2                0.262530           1.674988  \n",
       "3                0.008559           1.114097  \n",
       "4               -0.146954          -0.890970  \n",
       "...                   ...                ...  \n",
       "534596           0.733590          -0.296111  \n",
       "534597           0.198171           1.414949  \n",
       "534598           1.318086           0.699344  \n",
       "534599          -1.047464          -0.906017  \n",
       "534600          -0.221439          -0.874713  \n",
       "\n",
       "[534601 rows x 51 columns]"
      ]
     },
     "execution_count": 16,
     "metadata": {},
     "output_type": "execute_result"
    }
   ],
   "source": [
    "from sklearn.preprocessing import StandardScaler\n",
    "\n",
    "df_std = StandardScaler().fit_transform(df)\n",
    "\n",
    "scaled_df = pd.DataFrame(df_std, index=df.index, columns=df.columns)\n",
    "scaled_df"
   ]
  },
  {
   "cell_type": "code",
   "execution_count": 17,
   "metadata": {
    "colab": {
     "base_uri": "https://localhost:8080/"
    },
    "id": "Sp69ZtvHFI4q",
    "outputId": "b080305d-06ff-43e0-b16a-1da88e5310f3"
   },
   "outputs": [
    {
     "data": {
      "text/plain": [
       "1.0000009352782648"
      ]
     },
     "execution_count": 17,
     "metadata": {},
     "output_type": "execute_result"
    }
   ],
   "source": [
    "scaled_df['handAcc6_2'].std()"
   ]
  },
  {
   "cell_type": "code",
   "execution_count": 18,
   "metadata": {
    "colab": {
     "base_uri": "https://localhost:8080/"
    },
    "id": "ZpmP55JNdw-a",
    "outputId": "595e6f73-d7d2-4ae9-cc45-07e3d61c76c2"
   },
   "outputs": [
    {
     "name": "stdout",
     "output_type": "stream",
     "text": [
      "Wall time: 3.43 s\n"
     ]
    }
   ],
   "source": [
    "%%time\n",
    "from sklearn.decomposition import PCA\n",
    "\n",
    "pca = PCA(n_components=15)\n",
    "\n",
    "principalComponents = pca.fit_transform(scaled_df)\n",
    "\n",
    "principalDf = pd.DataFrame(data = principalComponents)"
   ]
  },
  {
   "cell_type": "code",
   "execution_count": 19,
   "metadata": {
    "colab": {
     "base_uri": "https://localhost:8080/",
     "height": 424
    },
    "id": "2i8SAl4heWnL",
    "outputId": "d0b26205-f670-46b0-e895-ac50c6667721"
   },
   "outputs": [
    {
     "data": {
      "text/html": [
       "<div>\n",
       "<style scoped>\n",
       "    .dataframe tbody tr th:only-of-type {\n",
       "        vertical-align: middle;\n",
       "    }\n",
       "\n",
       "    .dataframe tbody tr th {\n",
       "        vertical-align: top;\n",
       "    }\n",
       "\n",
       "    .dataframe thead th {\n",
       "        text-align: right;\n",
       "    }\n",
       "</style>\n",
       "<table border=\"1\" class=\"dataframe\">\n",
       "  <thead>\n",
       "    <tr style=\"text-align: right;\">\n",
       "      <th></th>\n",
       "      <th>0</th>\n",
       "      <th>1</th>\n",
       "      <th>2</th>\n",
       "      <th>3</th>\n",
       "      <th>4</th>\n",
       "      <th>5</th>\n",
       "      <th>6</th>\n",
       "      <th>7</th>\n",
       "      <th>8</th>\n",
       "      <th>9</th>\n",
       "      <th>10</th>\n",
       "      <th>11</th>\n",
       "      <th>12</th>\n",
       "      <th>13</th>\n",
       "      <th>14</th>\n",
       "    </tr>\n",
       "  </thead>\n",
       "  <tbody>\n",
       "    <tr>\n",
       "      <th>0</th>\n",
       "      <td>-5.828974</td>\n",
       "      <td>0.390167</td>\n",
       "      <td>-0.047919</td>\n",
       "      <td>0.892813</td>\n",
       "      <td>0.668238</td>\n",
       "      <td>-0.552993</td>\n",
       "      <td>0.954881</td>\n",
       "      <td>-0.305556</td>\n",
       "      <td>1.819936</td>\n",
       "      <td>-0.102279</td>\n",
       "      <td>0.816634</td>\n",
       "      <td>1.362369</td>\n",
       "      <td>0.586077</td>\n",
       "      <td>0.463794</td>\n",
       "      <td>0.430733</td>\n",
       "    </tr>\n",
       "    <tr>\n",
       "      <th>1</th>\n",
       "      <td>0.678551</td>\n",
       "      <td>-3.898663</td>\n",
       "      <td>-1.760957</td>\n",
       "      <td>-0.203703</td>\n",
       "      <td>-0.637996</td>\n",
       "      <td>0.529395</td>\n",
       "      <td>-2.870889</td>\n",
       "      <td>1.088408</td>\n",
       "      <td>-0.238804</td>\n",
       "      <td>0.873559</td>\n",
       "      <td>-0.503122</td>\n",
       "      <td>0.251060</td>\n",
       "      <td>0.888729</td>\n",
       "      <td>0.870206</td>\n",
       "      <td>0.885238</td>\n",
       "    </tr>\n",
       "    <tr>\n",
       "      <th>2</th>\n",
       "      <td>-0.042508</td>\n",
       "      <td>2.553560</td>\n",
       "      <td>-1.513247</td>\n",
       "      <td>-1.194768</td>\n",
       "      <td>0.618908</td>\n",
       "      <td>1.910397</td>\n",
       "      <td>0.531756</td>\n",
       "      <td>-0.846264</td>\n",
       "      <td>0.577830</td>\n",
       "      <td>-0.247367</td>\n",
       "      <td>0.592397</td>\n",
       "      <td>-0.753618</td>\n",
       "      <td>0.306951</td>\n",
       "      <td>-2.224498</td>\n",
       "      <td>0.809031</td>\n",
       "    </tr>\n",
       "    <tr>\n",
       "      <th>3</th>\n",
       "      <td>3.708638</td>\n",
       "      <td>1.515112</td>\n",
       "      <td>-0.628889</td>\n",
       "      <td>-0.994289</td>\n",
       "      <td>-1.509997</td>\n",
       "      <td>0.717917</td>\n",
       "      <td>-0.165026</td>\n",
       "      <td>2.247923</td>\n",
       "      <td>1.401609</td>\n",
       "      <td>-2.231799</td>\n",
       "      <td>-0.027004</td>\n",
       "      <td>0.005413</td>\n",
       "      <td>-0.167382</td>\n",
       "      <td>-0.739776</td>\n",
       "      <td>0.637472</td>\n",
       "    </tr>\n",
       "    <tr>\n",
       "      <th>4</th>\n",
       "      <td>-0.517304</td>\n",
       "      <td>-0.558435</td>\n",
       "      <td>1.160577</td>\n",
       "      <td>2.124561</td>\n",
       "      <td>0.294431</td>\n",
       "      <td>-0.992080</td>\n",
       "      <td>-0.812347</td>\n",
       "      <td>-0.600226</td>\n",
       "      <td>0.507542</td>\n",
       "      <td>0.111388</td>\n",
       "      <td>1.323243</td>\n",
       "      <td>-0.538647</td>\n",
       "      <td>-0.124181</td>\n",
       "      <td>-0.181139</td>\n",
       "      <td>0.407769</td>\n",
       "    </tr>\n",
       "    <tr>\n",
       "      <th>...</th>\n",
       "      <td>...</td>\n",
       "      <td>...</td>\n",
       "      <td>...</td>\n",
       "      <td>...</td>\n",
       "      <td>...</td>\n",
       "      <td>...</td>\n",
       "      <td>...</td>\n",
       "      <td>...</td>\n",
       "      <td>...</td>\n",
       "      <td>...</td>\n",
       "      <td>...</td>\n",
       "      <td>...</td>\n",
       "      <td>...</td>\n",
       "      <td>...</td>\n",
       "      <td>...</td>\n",
       "    </tr>\n",
       "    <tr>\n",
       "      <th>534596</th>\n",
       "      <td>2.817141</td>\n",
       "      <td>-1.332524</td>\n",
       "      <td>1.749744</td>\n",
       "      <td>-0.268150</td>\n",
       "      <td>4.036735</td>\n",
       "      <td>-0.840081</td>\n",
       "      <td>-1.284794</td>\n",
       "      <td>-2.053092</td>\n",
       "      <td>0.685312</td>\n",
       "      <td>0.799381</td>\n",
       "      <td>3.055371</td>\n",
       "      <td>0.557631</td>\n",
       "      <td>-0.789288</td>\n",
       "      <td>0.274229</td>\n",
       "      <td>-1.827810</td>\n",
       "    </tr>\n",
       "    <tr>\n",
       "      <th>534597</th>\n",
       "      <td>0.706786</td>\n",
       "      <td>3.070538</td>\n",
       "      <td>1.817394</td>\n",
       "      <td>-0.610676</td>\n",
       "      <td>-1.634318</td>\n",
       "      <td>2.820545</td>\n",
       "      <td>-0.204974</td>\n",
       "      <td>-0.148288</td>\n",
       "      <td>3.223207</td>\n",
       "      <td>0.701145</td>\n",
       "      <td>-0.494656</td>\n",
       "      <td>-1.533936</td>\n",
       "      <td>0.403363</td>\n",
       "      <td>2.958401</td>\n",
       "      <td>-0.140992</td>\n",
       "    </tr>\n",
       "    <tr>\n",
       "      <th>534598</th>\n",
       "      <td>0.824347</td>\n",
       "      <td>2.169950</td>\n",
       "      <td>-0.833524</td>\n",
       "      <td>-1.946806</td>\n",
       "      <td>0.394119</td>\n",
       "      <td>-0.431968</td>\n",
       "      <td>0.614459</td>\n",
       "      <td>-0.861560</td>\n",
       "      <td>1.246384</td>\n",
       "      <td>-0.888174</td>\n",
       "      <td>0.433923</td>\n",
       "      <td>1.160881</td>\n",
       "      <td>1.438907</td>\n",
       "      <td>0.948666</td>\n",
       "      <td>1.299575</td>\n",
       "    </tr>\n",
       "    <tr>\n",
       "      <th>534599</th>\n",
       "      <td>5.095107</td>\n",
       "      <td>1.378726</td>\n",
       "      <td>6.591725</td>\n",
       "      <td>0.795199</td>\n",
       "      <td>1.637698</td>\n",
       "      <td>-2.310240</td>\n",
       "      <td>1.176768</td>\n",
       "      <td>1.226390</td>\n",
       "      <td>-1.361790</td>\n",
       "      <td>3.817989</td>\n",
       "      <td>-1.216715</td>\n",
       "      <td>-2.208035</td>\n",
       "      <td>1.560730</td>\n",
       "      <td>-2.394180</td>\n",
       "      <td>2.805567</td>\n",
       "    </tr>\n",
       "    <tr>\n",
       "      <th>534600</th>\n",
       "      <td>1.553336</td>\n",
       "      <td>-1.531682</td>\n",
       "      <td>0.343035</td>\n",
       "      <td>2.196113</td>\n",
       "      <td>1.800988</td>\n",
       "      <td>1.582077</td>\n",
       "      <td>0.131910</td>\n",
       "      <td>-0.189720</td>\n",
       "      <td>-0.675621</td>\n",
       "      <td>-0.409924</td>\n",
       "      <td>-0.989838</td>\n",
       "      <td>0.263923</td>\n",
       "      <td>0.274859</td>\n",
       "      <td>-0.764067</td>\n",
       "      <td>-1.136221</td>\n",
       "    </tr>\n",
       "  </tbody>\n",
       "</table>\n",
       "<p>534601 rows × 15 columns</p>\n",
       "</div>"
      ],
      "text/plain": [
       "              0         1         2         3         4         5         6   \\\n",
       "0      -5.828974  0.390167 -0.047919  0.892813  0.668238 -0.552993  0.954881   \n",
       "1       0.678551 -3.898663 -1.760957 -0.203703 -0.637996  0.529395 -2.870889   \n",
       "2      -0.042508  2.553560 -1.513247 -1.194768  0.618908  1.910397  0.531756   \n",
       "3       3.708638  1.515112 -0.628889 -0.994289 -1.509997  0.717917 -0.165026   \n",
       "4      -0.517304 -0.558435  1.160577  2.124561  0.294431 -0.992080 -0.812347   \n",
       "...          ...       ...       ...       ...       ...       ...       ...   \n",
       "534596  2.817141 -1.332524  1.749744 -0.268150  4.036735 -0.840081 -1.284794   \n",
       "534597  0.706786  3.070538  1.817394 -0.610676 -1.634318  2.820545 -0.204974   \n",
       "534598  0.824347  2.169950 -0.833524 -1.946806  0.394119 -0.431968  0.614459   \n",
       "534599  5.095107  1.378726  6.591725  0.795199  1.637698 -2.310240  1.176768   \n",
       "534600  1.553336 -1.531682  0.343035  2.196113  1.800988  1.582077  0.131910   \n",
       "\n",
       "              7         8         9         10        11        12        13  \\\n",
       "0      -0.305556  1.819936 -0.102279  0.816634  1.362369  0.586077  0.463794   \n",
       "1       1.088408 -0.238804  0.873559 -0.503122  0.251060  0.888729  0.870206   \n",
       "2      -0.846264  0.577830 -0.247367  0.592397 -0.753618  0.306951 -2.224498   \n",
       "3       2.247923  1.401609 -2.231799 -0.027004  0.005413 -0.167382 -0.739776   \n",
       "4      -0.600226  0.507542  0.111388  1.323243 -0.538647 -0.124181 -0.181139   \n",
       "...          ...       ...       ...       ...       ...       ...       ...   \n",
       "534596 -2.053092  0.685312  0.799381  3.055371  0.557631 -0.789288  0.274229   \n",
       "534597 -0.148288  3.223207  0.701145 -0.494656 -1.533936  0.403363  2.958401   \n",
       "534598 -0.861560  1.246384 -0.888174  0.433923  1.160881  1.438907  0.948666   \n",
       "534599  1.226390 -1.361790  3.817989 -1.216715 -2.208035  1.560730 -2.394180   \n",
       "534600 -0.189720 -0.675621 -0.409924 -0.989838  0.263923  0.274859 -0.764067   \n",
       "\n",
       "              14  \n",
       "0       0.430733  \n",
       "1       0.885238  \n",
       "2       0.809031  \n",
       "3       0.637472  \n",
       "4       0.407769  \n",
       "...          ...  \n",
       "534596 -1.827810  \n",
       "534597 -0.140992  \n",
       "534598  1.299575  \n",
       "534599  2.805567  \n",
       "534600 -1.136221  \n",
       "\n",
       "[534601 rows x 15 columns]"
      ]
     },
     "execution_count": 19,
     "metadata": {},
     "output_type": "execute_result"
    }
   ],
   "source": [
    "principalDf"
   ]
  },
  {
   "cell_type": "code",
   "execution_count": 20,
   "metadata": {
    "colab": {
     "base_uri": "https://localhost:8080/",
     "height": 668
    },
    "id": "hli_0Imanu8D",
    "outputId": "080c3604-2001-4c21-d2f2-24826c6b3240"
   },
   "outputs": [
    {
     "data": {
      "image/png": "[encoded data removed]",
      "text/plain": [
       "<Figure size 1080x720 with 2 Axes>"
      ]
     },
     "metadata": {
      "needs_background": "light"
     },
     "output_type": "display_data"
    }
   ],
   "source": [
    "from pandas.plotting import scatter_matrix\n",
    "import seaborn as sns\n",
    "import numpy as np\n",
    "\n",
    "principalDf_corr = principalDf.corr()\n",
    "\n",
    "f, ax = plt.subplots(figsize=(15, 10))\n",
    "sns.heatmap(principalDf_corr, mask=np.zeros_like(principalDf_corr, dtype=np.bool), cmap = \"BrBG\",ax=ax)\n",
    "plt.show()"
   ]
  },
  {
   "cell_type": "code",
   "execution_count": 21,
   "metadata": {
    "colab": {
     "base_uri": "https://localhost:8080/"
    },
    "id": "TzfjM64ceuLq",
    "outputId": "faf1d4ef-96a4-4394-b72f-7d7ba30f559b"
   },
   "outputs": [
    {
     "name": "stdout",
     "output_type": "stream",
     "text": [
      "Explained variation per principal component: [0.1782237  0.07611954 0.06005663 0.0560861  0.05368506 0.04682947\n",
      " 0.04414555 0.03940302 0.03728774 0.03353336 0.03042805 0.02598026\n",
      " 0.02381646 0.02267689 0.02175447]\n"
     ]
    }
   ],
   "source": [
    "print('Explained variation per principal component: {}'.format(pca.explained_variance_ratio_))"
   ]
  },
  {
   "cell_type": "code",
   "execution_count": 22,
   "metadata": {
    "colab": {
     "base_uri": "https://localhost:8080/"
    },
    "id": "zsyNZjPQ_jgT",
    "outputId": "a4c04ce5-86d1-4eb0-d687-7b2164789bbd"
   },
   "outputs": [
    {
     "data": {
      "text/plain": [
       "0.750026306725007"
      ]
     },
     "execution_count": 22,
     "metadata": {},
     "output_type": "execute_result"
    }
   ],
   "source": [
    "evr = pca.explained_variance_ratio_\n",
    "evr.sum()"
   ]
  },
  {
   "cell_type": "code",
   "execution_count": 23,
   "metadata": {
    "id": "-zYftuiqfPKY"
   },
   "outputs": [],
   "source": [
    "from sklearn.decomposition import PCA\n",
    "\n",
    "pca = PCA(.85)\n",
    "\n",
    "principalComponents = pca.fit_transform(scaled_df)"
   ]
  },
  {
   "cell_type": "code",
   "execution_count": 24,
   "metadata": {
    "colab": {
     "base_uri": "https://localhost:8080/"
    },
    "id": "v30u8HirfWtS",
    "outputId": "cf11d06a-330a-45b2-ff4b-6fd9ea794c36"
   },
   "outputs": [
    {
     "data": {
      "text/plain": [
       "22"
      ]
     },
     "execution_count": 24,
     "metadata": {},
     "output_type": "execute_result"
    }
   ],
   "source": [
    "pca.n_components_ "
   ]
  },
  {
   "cell_type": "code",
   "execution_count": 25,
   "metadata": {
    "colab": {
     "base_uri": "https://localhost:8080/"
    },
    "id": "aKfRCi6CgdgX",
    "outputId": "9eb9c0ea-91cf-490f-c153-0122d41d1e97"
   },
   "outputs": [
    {
     "name": "stdout",
     "output_type": "stream",
     "text": [
      "Explained variation per principal component: [0.1782237  0.07611955 0.06005663 0.0560861  0.05368512 0.04682955\n",
      " 0.04414558 0.03940322 0.03728797 0.0335342  0.03042986 0.02598428\n",
      " 0.02382061 0.02267965 0.02176092 0.02051831 0.01859383 0.01784741\n",
      " 0.01503833 0.01434692 0.01359877 0.01259427]\n"
     ]
    }
   ],
   "source": [
    "print('Explained variation per principal component: {}'.format(pca.explained_variance_ratio_))"
   ]
  },
  {
   "cell_type": "code",
   "execution_count": 26,
   "metadata": {
    "colab": {
     "base_uri": "https://localhost:8080/",
     "height": 477
    },
    "id": "IdcXlpmi7xwa",
    "outputId": "497b8581-4489-474b-ee72-a6700aefd19a"
   },
   "outputs": [
    {
     "data": {
      "image/png": "[encoded data removed]",
      "text/plain": [
       "<Figure size 720x504 with 1 Axes>"
      ]
     },
     "metadata": {
      "needs_background": "light"
     },
     "output_type": "display_data"
    },
    {
     "name": "stdout",
     "output_type": "stream",
     "text": [
      "Wall time: 1.65 s\n"
     ]
    }
   ],
   "source": [
    "%%time\n",
    "import numpy as np\n",
    "from sklearn.decomposition import PCA\n",
    "\n",
    "pca = PCA().fit(scaled_df)\n",
    "\n",
    "plt.figure(figsize=(10,7))\n",
    "plt.plot(np.cumsum(pca.explained_variance_ratio_), color='k', lw=2)\n",
    "plt.xlabel('Number of components')\n",
    "plt.ylabel('Total explained variance')\n",
    "plt.xlim(0, 63)\n",
    "plt.yticks(np.arange(0, 1.1, 0.1))\n",
    "plt.axvline(24, c='b')\n",
    "plt.axhline(0.9, c='r')\n",
    "plt.show();"
   ]
  },
  {
   "cell_type": "code",
   "execution_count": 27,
   "metadata": {
    "colab": {
     "base_uri": "https://localhost:8080/"
    },
    "id": "4To4MsxHBJ0S",
    "outputId": "2b25d839-4cd3-47bd-e4ca-d5fed94c5edc"
   },
   "outputs": [
    {
     "name": "stdout",
     "output_type": "stream",
     "text": [
      "Wall time: 4.5 s\n"
     ]
    },
    {
     "data": {
      "text/plain": [
       "0.8965755545629557"
      ]
     },
     "execution_count": 27,
     "metadata": {},
     "output_type": "execute_result"
    }
   ],
   "source": [
    "%%time\n",
    "from sklearn.decomposition import PCA\n",
    "\n",
    "pca = PCA(n_components=25)\n",
    "\n",
    "principalComponents = pca.fit_transform(scaled_df)\n",
    "\n",
    "principalDf = pd.DataFrame(data = principalComponents)\n",
    "\n",
    "evr = pca.explained_variance_ratio_\n",
    "evr.sum()"
   ]
  },
  {
   "cell_type": "code",
   "execution_count": 28,
   "metadata": {
    "colab": {
     "base_uri": "https://localhost:8080/"
    },
    "id": "ogAeiVb2BUEz",
    "outputId": "6eb7d8d5-c935-49e7-bbf7-1a77cc684878"
   },
   "outputs": [
    {
     "data": {
      "text/plain": [
       "0.8965755545629557"
      ]
     },
     "execution_count": 28,
     "metadata": {},
     "output_type": "execute_result"
    }
   ],
   "source": [
    "evr.sum()"
   ]
  },
  {
   "cell_type": "code",
   "execution_count": 29,
   "metadata": {
    "colab": {
     "base_uri": "https://localhost:8080/"
    },
    "id": "BVOmvnMlCOvz",
    "outputId": "cbd0055c-a5ef-4825-fb8f-79e82265ddf1"
   },
   "outputs": [
    {
     "name": "stderr",
     "output_type": "stream",
     "text": [
      "C:\\Users\\Ivan\\anaconda3\\lib\\site-packages\\sklearn\\cluster\\_kmeans.py:870: FutureWarning: The default value of `n_init` will change from 10 to 'auto' in 1.4. Set the value of `n_init` explicitly to suppress the warning\n",
      "  warnings.warn(\n"
     ]
    },
    {
     "name": "stdout",
     "output_type": "stream",
     "text": [
      "Wall time: 8.32 s\n"
     ]
    }
   ],
   "source": [
    "%%time\n",
    "from sklearn.cluster import KMeans\n",
    "\n",
    "n_init = 12\n",
    "max_iter = 225\n",
    "tol = 0.0001\n",
    "random_state = 123\n",
    "n_clusters = 6\n",
    "\n",
    "clusterer = KMeans(n_clusters=n_clusters, max_iter = max_iter, random_state = random_state)\n",
    "\n",
    "cluster_labels = clusterer.fit_predict(principalComponents)\n",
    "\n",
    "# inertia\n",
    "inertia = clusterer.inertia_"
   ]
  },
  {
   "cell_type": "code",
   "execution_count": 30,
   "metadata": {
    "colab": {
     "base_uri": "https://localhost:8080/"
    },
    "id": "5RJFEFXICT2x",
    "outputId": "20b1fbf7-fa23-4f81-f7d9-113f24ba5774"
   },
   "outputs": [
    {
     "name": "stdout",
     "output_type": "stream",
     "text": [
      "For n_clusters = 6 , the inertia is : 16350505.678867333\n"
     ]
    }
   ],
   "source": [
    "print(\"For n_clusters =\", n_clusters,\n",
    "      \", the inertia is :\", inertia)\n",
    "\n",
    "# 4094519065 - 6 кластеров без PCA\n",
    "# 16360674 - 6 кластеров после PCA"
   ]
  },
  {
   "cell_type": "code",
   "execution_count": 31,
   "metadata": {
    "colab": {
     "base_uri": "https://localhost:8080/"
    },
    "id": "f6U_3NQHKoKW",
    "outputId": "c0c022ad-69b3-4fd4-f26b-de7729a9e587"
   },
   "outputs": [
    {
     "name": "stderr",
     "output_type": "stream",
     "text": [
      "C:\\Users\\Ivan\\anaconda3\\lib\\site-packages\\sklearn\\cluster\\_kmeans.py:870: FutureWarning: The default value of `n_init` will change from 10 to 'auto' in 1.4. Set the value of `n_init` explicitly to suppress the warning\n",
      "  warnings.warn(\n"
     ]
    },
    {
     "name": "stdout",
     "output_type": "stream",
     "text": [
      "Wall time: 13.6 s\n"
     ]
    }
   ],
   "source": [
    "%%time\n",
    "from sklearn.cluster import KMeans\n",
    "\n",
    "n_clusters = 6\n",
    "\n",
    "clusterer = KMeans(n_clusters=n_clusters, init='k-means++')\n",
    "\n",
    "cluster_labels = clusterer.fit_predict(scaled_df)\n",
    "\n",
    "# inertia\n",
    "inertia = clusterer.inertia_"
   ]
  },
  {
   "cell_type": "code",
   "execution_count": 32,
   "metadata": {
    "colab": {
     "base_uri": "https://localhost:8080/"
    },
    "id": "_GyI8eMlK7xT",
    "outputId": "b93a085e-1959-45a5-d879-fbc049248a1e"
   },
   "outputs": [
    {
     "name": "stdout",
     "output_type": "stream",
     "text": [
      "For n_clusters = 6 , the inertia is : 19084728.149500147\n"
     ]
    }
   ],
   "source": [
    "print(\"For n_clusters =\", n_clusters,\n",
    "      \", the inertia is :\", inertia)\n",
    "\n",
    "# 4094519065\n",
    "# 16966685\n",
    "# 19141373"
   ]
  },
  {
   "cell_type": "code",
   "execution_count": 33,
   "metadata": {
    "colab": {
     "base_uri": "https://localhost:8080/",
     "height": 281
    },
    "id": "ZtWUM_BXE-ey",
    "outputId": "58655604-5409-4c06-a0a9-5a3f4d984341"
   },
   "outputs": [
    {
     "name": "stderr",
     "output_type": "stream",
     "text": [
      "C:\\Users\\Ivan\\anaconda3\\lib\\site-packages\\sklearn\\cluster\\_kmeans.py:870: FutureWarning: The default value of `n_init` will change from 10 to 'auto' in 1.4. Set the value of `n_init` explicitly to suppress the warning\n",
      "  warnings.warn(\n"
     ]
    },
    {
     "ename": "NameError",
     "evalue": "name 'scaled_features' is not defined",
     "output_type": "error",
     "traceback": [
      "\u001b[1;31m---------------------------------------------------------------------------\u001b[0m",
      "\u001b[1;31mNameError\u001b[0m                                 Traceback (most recent call last)",
      "\u001b[1;32m<timed exec>\u001b[0m in \u001b[0;36m<module>\u001b[1;34m\u001b[0m\n",
      "\u001b[1;31mNameError\u001b[0m: name 'scaled_features' is not defined"
     ]
    }
   ],
   "source": [
    "%%time\n",
    "from sklearn.cluster import KMeans\n",
    "from sklearn.metrics import silhouette_score\n",
    "\n",
    "inertia = []\n",
    "silhouette_coefficients = []\n",
    "\n",
    "for k in range(3, 12):\n",
    "    kmeans = KMeans(n_clusters=k, random_state=1).fit(principalComponents)\n",
    "    inertia.append(np.sqrt(kmeans.inertia_))\n",
    "    score = silhouette_score(scaled_features, kmeans.labels_)\n",
    "    silhouette_coefficients.append(score)\n",
    "\n",
    "plt.plot(range(3, 12), inertia, marker='s');\n",
    "plt.xlabel('$k$')\n",
    "plt.ylabel('$J(C_k)$');"
   ]
  },
  {
   "cell_type": "code",
   "execution_count": 34,
   "metadata": {
    "id": "lmNBarkgH0uU"
   },
   "outputs": [
    {
     "ename": "ValueError",
     "evalue": "x and y must have same first dimension, but have shapes (9,) and (0,)",
     "output_type": "error",
     "traceback": [
      "\u001b[1;31m---------------------------------------------------------------------------\u001b[0m",
      "\u001b[1;31mValueError\u001b[0m                                Traceback (most recent call last)",
      "\u001b[1;32m<ipython-input-34-6b7071b6944a>\u001b[0m in \u001b[0;36m<module>\u001b[1;34m\u001b[0m\n\u001b[0;32m      1\u001b[0m \u001b[0mplt\u001b[0m\u001b[1;33m.\u001b[0m\u001b[0mstyle\u001b[0m\u001b[1;33m.\u001b[0m\u001b[0muse\u001b[0m\u001b[1;33m(\u001b[0m\u001b[1;34m\"fivethirtyeight\"\u001b[0m\u001b[1;33m)\u001b[0m\u001b[1;33m\u001b[0m\u001b[1;33m\u001b[0m\u001b[0m\n\u001b[1;32m----> 2\u001b[1;33m \u001b[0mplt\u001b[0m\u001b[1;33m.\u001b[0m\u001b[0mplot\u001b[0m\u001b[1;33m(\u001b[0m\u001b[0mrange\u001b[0m\u001b[1;33m(\u001b[0m\u001b[1;36m3\u001b[0m\u001b[1;33m,\u001b[0m \u001b[1;36m12\u001b[0m\u001b[1;33m)\u001b[0m\u001b[1;33m,\u001b[0m \u001b[0msilhouette_coefficients\u001b[0m\u001b[1;33m)\u001b[0m\u001b[1;33m\u001b[0m\u001b[1;33m\u001b[0m\u001b[0m\n\u001b[0m\u001b[0;32m      3\u001b[0m \u001b[0mplt\u001b[0m\u001b[1;33m.\u001b[0m\u001b[0mxticks\u001b[0m\u001b[1;33m(\u001b[0m\u001b[0mrange\u001b[0m\u001b[1;33m(\u001b[0m\u001b[1;36m3\u001b[0m\u001b[1;33m,\u001b[0m \u001b[1;36m12\u001b[0m\u001b[1;33m)\u001b[0m\u001b[1;33m)\u001b[0m\u001b[1;33m\u001b[0m\u001b[1;33m\u001b[0m\u001b[0m\n\u001b[0;32m      4\u001b[0m \u001b[0mplt\u001b[0m\u001b[1;33m.\u001b[0m\u001b[0mxlabel\u001b[0m\u001b[1;33m(\u001b[0m\u001b[1;34m\"Number of Clusters\"\u001b[0m\u001b[1;33m)\u001b[0m\u001b[1;33m\u001b[0m\u001b[1;33m\u001b[0m\u001b[0m\n\u001b[0;32m      5\u001b[0m \u001b[0mplt\u001b[0m\u001b[1;33m.\u001b[0m\u001b[0mylabel\u001b[0m\u001b[1;33m(\u001b[0m\u001b[1;34m\"Silhouette Coefficient\"\u001b[0m\u001b[1;33m)\u001b[0m\u001b[1;33m\u001b[0m\u001b[1;33m\u001b[0m\u001b[0m\n",
      "\u001b[1;32m~\\anaconda3\\lib\\site-packages\\matplotlib\\pyplot.py\u001b[0m in \u001b[0;36mplot\u001b[1;34m(scalex, scaley, data, *args, **kwargs)\u001b[0m\n\u001b[0;32m   2838\u001b[0m \u001b[1;33m@\u001b[0m\u001b[0m_copy_docstring_and_deprecators\u001b[0m\u001b[1;33m(\u001b[0m\u001b[0mAxes\u001b[0m\u001b[1;33m.\u001b[0m\u001b[0mplot\u001b[0m\u001b[1;33m)\u001b[0m\u001b[1;33m\u001b[0m\u001b[1;33m\u001b[0m\u001b[0m\n\u001b[0;32m   2839\u001b[0m \u001b[1;32mdef\u001b[0m \u001b[0mplot\u001b[0m\u001b[1;33m(\u001b[0m\u001b[1;33m*\u001b[0m\u001b[0margs\u001b[0m\u001b[1;33m,\u001b[0m \u001b[0mscalex\u001b[0m\u001b[1;33m=\u001b[0m\u001b[1;32mTrue\u001b[0m\u001b[1;33m,\u001b[0m \u001b[0mscaley\u001b[0m\u001b[1;33m=\u001b[0m\u001b[1;32mTrue\u001b[0m\u001b[1;33m,\u001b[0m \u001b[0mdata\u001b[0m\u001b[1;33m=\u001b[0m\u001b[1;32mNone\u001b[0m\u001b[1;33m,\u001b[0m \u001b[1;33m**\u001b[0m\u001b[0mkwargs\u001b[0m\u001b[1;33m)\u001b[0m\u001b[1;33m:\u001b[0m\u001b[1;33m\u001b[0m\u001b[1;33m\u001b[0m\u001b[0m\n\u001b[1;32m-> 2840\u001b[1;33m     return gca().plot(\n\u001b[0m\u001b[0;32m   2841\u001b[0m         \u001b[1;33m*\u001b[0m\u001b[0margs\u001b[0m\u001b[1;33m,\u001b[0m \u001b[0mscalex\u001b[0m\u001b[1;33m=\u001b[0m\u001b[0mscalex\u001b[0m\u001b[1;33m,\u001b[0m \u001b[0mscaley\u001b[0m\u001b[1;33m=\u001b[0m\u001b[0mscaley\u001b[0m\u001b[1;33m,\u001b[0m\u001b[1;33m\u001b[0m\u001b[1;33m\u001b[0m\u001b[0m\n\u001b[0;32m   2842\u001b[0m         **({\"data\": data} if data is not None else {}), **kwargs)\n",
      "\u001b[1;32m~\\anaconda3\\lib\\site-packages\\matplotlib\\axes\\_axes.py\u001b[0m in \u001b[0;36mplot\u001b[1;34m(self, scalex, scaley, data, *args, **kwargs)\u001b[0m\n\u001b[0;32m   1741\u001b[0m         \"\"\"\n\u001b[0;32m   1742\u001b[0m         \u001b[0mkwargs\u001b[0m \u001b[1;33m=\u001b[0m \u001b[0mcbook\u001b[0m\u001b[1;33m.\u001b[0m\u001b[0mnormalize_kwargs\u001b[0m\u001b[1;33m(\u001b[0m\u001b[0mkwargs\u001b[0m\u001b[1;33m,\u001b[0m \u001b[0mmlines\u001b[0m\u001b[1;33m.\u001b[0m\u001b[0mLine2D\u001b[0m\u001b[1;33m)\u001b[0m\u001b[1;33m\u001b[0m\u001b[1;33m\u001b[0m\u001b[0m\n\u001b[1;32m-> 1743\u001b[1;33m         \u001b[0mlines\u001b[0m \u001b[1;33m=\u001b[0m \u001b[1;33m[\u001b[0m\u001b[1;33m*\u001b[0m\u001b[0mself\u001b[0m\u001b[1;33m.\u001b[0m\u001b[0m_get_lines\u001b[0m\u001b[1;33m(\u001b[0m\u001b[1;33m*\u001b[0m\u001b[0margs\u001b[0m\u001b[1;33m,\u001b[0m \u001b[0mdata\u001b[0m\u001b[1;33m=\u001b[0m\u001b[0mdata\u001b[0m\u001b[1;33m,\u001b[0m \u001b[1;33m**\u001b[0m\u001b[0mkwargs\u001b[0m\u001b[1;33m)\u001b[0m\u001b[1;33m]\u001b[0m\u001b[1;33m\u001b[0m\u001b[1;33m\u001b[0m\u001b[0m\n\u001b[0m\u001b[0;32m   1744\u001b[0m         \u001b[1;32mfor\u001b[0m \u001b[0mline\u001b[0m \u001b[1;32min\u001b[0m \u001b[0mlines\u001b[0m\u001b[1;33m:\u001b[0m\u001b[1;33m\u001b[0m\u001b[1;33m\u001b[0m\u001b[0m\n\u001b[0;32m   1745\u001b[0m             \u001b[0mself\u001b[0m\u001b[1;33m.\u001b[0m\u001b[0madd_line\u001b[0m\u001b[1;33m(\u001b[0m\u001b[0mline\u001b[0m\u001b[1;33m)\u001b[0m\u001b[1;33m\u001b[0m\u001b[1;33m\u001b[0m\u001b[0m\n",
      "\u001b[1;32m~\\anaconda3\\lib\\site-packages\\matplotlib\\axes\\_base.py\u001b[0m in \u001b[0;36m__call__\u001b[1;34m(self, data, *args, **kwargs)\u001b[0m\n\u001b[0;32m    271\u001b[0m                 \u001b[0mthis\u001b[0m \u001b[1;33m+=\u001b[0m \u001b[0margs\u001b[0m\u001b[1;33m[\u001b[0m\u001b[1;36m0\u001b[0m\u001b[1;33m]\u001b[0m\u001b[1;33m,\u001b[0m\u001b[1;33m\u001b[0m\u001b[1;33m\u001b[0m\u001b[0m\n\u001b[0;32m    272\u001b[0m                 \u001b[0margs\u001b[0m \u001b[1;33m=\u001b[0m \u001b[0margs\u001b[0m\u001b[1;33m[\u001b[0m\u001b[1;36m1\u001b[0m\u001b[1;33m:\u001b[0m\u001b[1;33m]\u001b[0m\u001b[1;33m\u001b[0m\u001b[1;33m\u001b[0m\u001b[0m\n\u001b[1;32m--> 273\u001b[1;33m             \u001b[1;32myield\u001b[0m \u001b[1;32mfrom\u001b[0m \u001b[0mself\u001b[0m\u001b[1;33m.\u001b[0m\u001b[0m_plot_args\u001b[0m\u001b[1;33m(\u001b[0m\u001b[0mthis\u001b[0m\u001b[1;33m,\u001b[0m \u001b[0mkwargs\u001b[0m\u001b[1;33m)\u001b[0m\u001b[1;33m\u001b[0m\u001b[1;33m\u001b[0m\u001b[0m\n\u001b[0m\u001b[0;32m    274\u001b[0m \u001b[1;33m\u001b[0m\u001b[0m\n\u001b[0;32m    275\u001b[0m     \u001b[1;32mdef\u001b[0m \u001b[0mget_next_color\u001b[0m\u001b[1;33m(\u001b[0m\u001b[0mself\u001b[0m\u001b[1;33m)\u001b[0m\u001b[1;33m:\u001b[0m\u001b[1;33m\u001b[0m\u001b[1;33m\u001b[0m\u001b[0m\n",
      "\u001b[1;32m~\\anaconda3\\lib\\site-packages\\matplotlib\\axes\\_base.py\u001b[0m in \u001b[0;36m_plot_args\u001b[1;34m(self, tup, kwargs)\u001b[0m\n\u001b[0;32m    397\u001b[0m \u001b[1;33m\u001b[0m\u001b[0m\n\u001b[0;32m    398\u001b[0m         \u001b[1;32mif\u001b[0m \u001b[0mx\u001b[0m\u001b[1;33m.\u001b[0m\u001b[0mshape\u001b[0m\u001b[1;33m[\u001b[0m\u001b[1;36m0\u001b[0m\u001b[1;33m]\u001b[0m \u001b[1;33m!=\u001b[0m \u001b[0my\u001b[0m\u001b[1;33m.\u001b[0m\u001b[0mshape\u001b[0m\u001b[1;33m[\u001b[0m\u001b[1;36m0\u001b[0m\u001b[1;33m]\u001b[0m\u001b[1;33m:\u001b[0m\u001b[1;33m\u001b[0m\u001b[1;33m\u001b[0m\u001b[0m\n\u001b[1;32m--> 399\u001b[1;33m             raise ValueError(f\"x and y must have same first dimension, but \"\n\u001b[0m\u001b[0;32m    400\u001b[0m                              f\"have shapes {x.shape} and {y.shape}\")\n\u001b[0;32m    401\u001b[0m         \u001b[1;32mif\u001b[0m \u001b[0mx\u001b[0m\u001b[1;33m.\u001b[0m\u001b[0mndim\u001b[0m \u001b[1;33m>\u001b[0m \u001b[1;36m2\u001b[0m \u001b[1;32mor\u001b[0m \u001b[0my\u001b[0m\u001b[1;33m.\u001b[0m\u001b[0mndim\u001b[0m \u001b[1;33m>\u001b[0m \u001b[1;36m2\u001b[0m\u001b[1;33m:\u001b[0m\u001b[1;33m\u001b[0m\u001b[1;33m\u001b[0m\u001b[0m\n",
      "\u001b[1;31mValueError\u001b[0m: x and y must have same first dimension, but have shapes (9,) and (0,)"
     ]
    },
    {
     "data": {
      "image/png": "[encoded data removed]",
      "text/plain": [
       "<Figure size 432x288 with 1 Axes>"
      ]
     },
     "metadata": {},
     "output_type": "display_data"
    }
   ],
   "source": [
    "plt.style.use(\"fivethirtyeight\")\n",
    "plt.plot(range(3, 12), silhouette_coefficients)\n",
    "plt.xticks(range(3, 12))\n",
    "plt.xlabel(\"Number of Clusters\")\n",
    "plt.ylabel(\"Silhouette Coefficient\")\n",
    "plt.show()"
   ]
  },
  {
   "cell_type": "code",
   "execution_count": null,
   "metadata": {
    "colab": {
     "base_uri": "https://localhost:8080/",
     "height": 299
    },
    "id": "If-aZ1NqsIp8",
    "outputId": "5ae90f7e-2e75-4689-9802-4ed093c6ef90"
   },
   "outputs": [],
   "source": [
    "df.head()"
   ]
  },
  {
   "cell_type": "code",
   "execution_count": null,
   "metadata": {
    "id": "CHusH2DjRmhZ"
   },
   "outputs": [],
   "source": [
    "scaled_df_hand = scaled_df['handTemperature', 'handAcc16_1', 'handAcc16_2',\n",
    "                           'handAcc16_3', 'handAcc6_1', 'handAcc6_2', 'handAcc6_3', 'handGyro1',\n",
    "                           'handGyro2', 'handGyro3', 'handMagne1', 'handMagne2', 'handMagne3',\n",
    "                           'handOrientation1', 'handOrientation2', 'handOrientation3', 'handOrientation4']\n",
    "\n",
    "scaled_df_chest = scaled_df['chestTemperature', 'chestAcc16_1', 'chestAcc16_2',\n",
    "                            'chestAcc16_3', 'chestAcc6_1', 'chestAcc6_2', 'chestAcc6_3',\n",
    "                            'chestGyro1', 'chestGyro2', 'chestGyro3', 'chestMagne1', 'chestMagne2',\n",
    "                            'chestMagne3', 'chestOrientation1', 'chestOrientation2',\n",
    "                            'chestOrientation3', 'chestOrientation4']\n",
    "\n",
    "scaled_df_ankle = scaled_df['ankleTemperature', 'ankleAcc16_1', 'ankleAcc16_2', 'ankleAcc16_3', 'ankleAcc6_1',\n",
    "                            'ankleAcc6_2', 'ankleAcc6_3', 'ankleGyro1', 'ankleGyro2', 'ankleGyro3',\n",
    "                            'ankleMagne1', 'ankleMagne2', 'ankleMagne3', 'ankleOrientation1',\n",
    "                            'ankleOrientation2', 'ankleOrientation3', 'ankleOrientation4'] "
   ]
  },
  {
   "cell_type": "code",
   "execution_count": null,
   "metadata": {
    "id": "3ckvrazrSUjk"
   },
   "outputs": [],
   "source": [
    "from sklearn.cluster import KMeans\n",
    "\n",
    "inertia_hand = []\n",
    "\n",
    "for k in range(3, 15):\n",
    "    kmeans = KMeans(n_clusters=k, random_state=1).fit(scaled_df_hand)\n",
    "    inertia_hand.append(np.sqrt(kmeans.inertia_))\n",
    "\n",
    "plt.plot(range(3, 15), inertia_hand, marker='s');\n",
    "plt.xlabel('$k$')\n",
    "plt.ylabel('$J(C_k)$');"
   ]
  },
  {
   "cell_type": "code",
   "execution_count": null,
   "metadata": {
    "id": "m5h3O1wMSjfp"
   },
   "outputs": [],
   "source": [
    "inertia_chest = []\n",
    "\n",
    "for k in range(3, 15):\n",
    "    kmeans = KMeans(n_clusters=k, random_state=1).fit(scaled_df_chest)\n",
    "    inertia_chest.append(np.sqrt(kmeans.inertia_))\n",
    "\n",
    "plt.plot(range(3, 15), inertia_chest, marker='s');\n",
    "plt.xlabel('$k$')\n",
    "plt.ylabel('$J(C_k)$');"
   ]
  },
  {
   "cell_type": "code",
   "execution_count": null,
   "metadata": {
    "id": "8gok6QgWSp-8"
   },
   "outputs": [],
   "source": [
    "inertia_ankle = []\n",
    "\n",
    "for k in range(3, 15):\n",
    "    kmeans = KMeans(n_clusters=k, random_state=1).fit(scaled_df_ankle)\n",
    "    inertia_ankle.append(np.sqrt(kmeans.inertia_))\n",
    "\n",
    "plt.plot(range(3, 15), inertia_ankle, marker='s');\n",
    "plt.xlabel('$k$')\n",
    "plt.ylabel('$J(C_k)$');"
   ]
  },
  {
   "cell_type": "code",
   "execution_count": null,
   "metadata": {
    "colab": {
     "base_uri": "https://localhost:8080/",
     "height": 424
    },
    "id": "OSO0rvFXD7vQ",
    "outputId": "3a55698d-7c01-408f-bb03-f517dedbd62a"
   },
   "outputs": [],
   "source": [
    "predictions = pd.DataFrame(cluster_labels, columns=['activityID'])\n",
    "predictions = predictions.reset_index()\n",
    "\n",
    "predictions"
   ]
  },
  {
   "cell_type": "code",
   "execution_count": null,
   "metadata": {
    "colab": {
     "base_uri": "https://localhost:8080/"
    },
    "id": "2QOktEDAEWFo",
    "outputId": "421cd0e0-48af-4e16-ddbf-fedd92f57159"
   },
   "outputs": [],
   "source": [
    "predictions['activityID'].unique()"
   ]
  },
  {
   "cell_type": "code",
   "execution_count": null,
   "metadata": {
    "colab": {
     "base_uri": "https://localhost:8080/"
    },
    "id": "35Hn5LNxFw-V",
    "outputId": "e0ef9331-f3ff-4367-a42d-3f48c5c9e6d5"
   },
   "outputs": [],
   "source": [
    "import numpy as np\n",
    "\n",
    "one = 2\n",
    "two = 3\n",
    "three = 0\n",
    "four = 4\n",
    "five = 1\n",
    "six = 5\n",
    "\n",
    "predictions['new'] = np.where(predictions['activityID'] == one, 1,\n",
    "                      np.where(predictions['activityID'] == two, 2,\n",
    "                               np.where(predictions['activityID'] == three, 3,\n",
    "                                        np.where(predictions['activityID'] == four, 4,\n",
    "                                                 np.where(predictions['activityID'] == five, 5,\n",
    "                                                          np.where(predictions['activityID'] == six, 6, -1))))))\n",
    "predictions['new'].value_counts()"
   ]
  },
  {
   "cell_type": "code",
   "execution_count": null,
   "metadata": {
    "colab": {
     "base_uri": "https://localhost:8080/"
    },
    "id": "er-RiBifpVC5",
    "outputId": "c00db1cf-6e8c-4834-f873-1987bc17bfa9"
   },
   "outputs": [],
   "source": [
    "predictions = predictions.drop(columns=['activityID'])\n",
    "\n",
    "predictions = predictions.rename(columns={\"new\": \"activityID\"})\n",
    "predictions.head()\n",
    "\n",
    "predictions['activityID'].unique()"
   ]
  },
  {
   "cell_type": "code",
   "execution_count": null,
   "metadata": {
    "colab": {
     "base_uri": "https://localhost:8080/",
     "height": 424
    },
    "id": "9s-RTvDJu7j0",
    "outputId": "2e6ce2de-400f-4e70-93ba-bba7ff3ed1bb"
   },
   "outputs": [],
   "source": [
    "predictions"
   ]
  },
  {
   "cell_type": "code",
   "execution_count": null,
   "metadata": {
    "colab": {
     "base_uri": "https://localhost:8080/",
     "height": 17
    },
    "id": "1S0XsaFkpZE2",
    "outputId": "77ede055-561d-4a02-846f-e817bf337019"
   },
   "outputs": [],
   "source": [
    "predictions.to_csv(\"solution.csv\", index=False)"
   ]
  },
  {
   "cell_type": "code",
   "execution_count": null,
   "metadata": {},
   "outputs": [],
   "source": []
  }
 ],
 "metadata": {
  "colab": {
   "provenance": []
  },
  "kernelspec": {
   "display_name": "Python 3",
   "language": "python",
   "name": "python3"
  },
  "language_info": {
   "codemirror_mode": {
    "name": "ipython",
    "version": 3
   },
   "file_extension": ".py",
   "mimetype": "text/x-python",
   "name": "python",
   "nbconvert_exporter": "python",
   "pygments_lexer": "ipython3",
   "version": "3.8.5"
  }
 },
 "nbformat": 4,
 "nbformat_minor": 1
}
